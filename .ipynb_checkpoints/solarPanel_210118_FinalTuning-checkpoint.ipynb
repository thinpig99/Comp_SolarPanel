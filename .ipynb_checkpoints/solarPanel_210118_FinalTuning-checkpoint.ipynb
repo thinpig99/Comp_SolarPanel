{
 "cells": [
  {
   "cell_type": "markdown",
   "metadata": {},
   "source": [
    "할 수 있는 것은 다 해 본 것 같습니다. 더 이상 무언가를 만들어내지 못할 것 같습니다. 마지막으로 모델 튜닝을 통해서 높은 성과를 기대해봐야겠습니다."
   ]
  },
  {
   "cell_type": "code",
   "execution_count": null,
   "metadata": {},
   "outputs": [],
   "source": []
  }
 ],
 "metadata": {
  "kernelspec": {
   "display_name": "Python 3",
   "language": "python",
   "name": "python3"
  },
  "language_info": {
   "codemirror_mode": {
    "name": "ipython",
    "version": 3
   },
   "file_extension": ".py",
   "mimetype": "text/x-python",
   "name": "python",
   "nbconvert_exporter": "python",
   "pygments_lexer": "ipython3",
   "version": "3.7.7"
  }
 },
 "nbformat": 4,
 "nbformat_minor": 4
}
