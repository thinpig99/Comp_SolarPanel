{
 "cells": [
  {
   "cell_type": "code",
   "execution_count": null,
   "metadata": {},
   "outputs": [],
   "source": []
  },
  {
   "cell_type": "code",
   "execution_count": null,
   "metadata": {},
   "outputs": [],
   "source": []
  },
  {
   "cell_type": "code",
   "execution_count": null,
   "metadata": {},
   "outputs": [],
   "source": []
  },
  {
   "cell_type": "code",
   "execution_count": null,
   "metadata": {},
   "outputs": [],
   "source": []
  },
  {
   "cell_type": "code",
   "execution_count": null,
   "metadata": {},
   "outputs": [],
   "source": []
  },
  {
   "cell_type": "code",
   "execution_count": null,
   "metadata": {},
   "outputs": [],
   "source": []
  },
  {
   "cell_type": "code",
   "execution_count": null,
   "metadata": {},
   "outputs": [],
   "source": []
  },
  {
   "cell_type": "code",
   "execution_count": null,
   "metadata": {},
   "outputs": [],
   "source": []
  },
  {
   "cell_type": "code",
   "execution_count": null,
   "metadata": {},
   "outputs": [],
   "source": []
  },
  {
   "cell_type": "code",
   "execution_count": null,
   "metadata": {},
   "outputs": [],
   "source": []
  },
  {
   "cell_type": "code",
   "execution_count": null,
   "metadata": {},
   "outputs": [],
   "source": []
  },
  {
   "cell_type": "code",
   "execution_count": null,
   "metadata": {},
   "outputs": [],
   "source": []
  },
  {
   "cell_type": "code",
   "execution_count": null,
   "metadata": {},
   "outputs": [],
   "source": []
  },
  {
   "cell_type": "code",
   "execution_count": null,
   "metadata": {},
   "outputs": [],
   "source": []
  },
  {
   "cell_type": "code",
   "execution_count": null,
   "metadata": {},
   "outputs": [],
   "source": []
  },
  {
   "cell_type": "code",
   "execution_count": null,
   "metadata": {},
   "outputs": [],
   "source": [
    "# 하루 단위로 평균 기온, 분산 기온, 평균 습도, 분산 습도, 평균 풍속, \n",
    "\n",
    "def make_AVGVAR(train, start_window=0, window=48):\n",
    "    \n",
    "    end_window = train.shape[0] / window\n",
    "    #stride = window\n",
    "    RH = train['RH'] # DHI value 값을 받습니다.\n",
    "    TP = train['T'] # DNI value 값을 받습니다.\n",
    "    \n",
    "    RH_AVG = []\n",
    "    TP_AVG = []\n",
    "    RH_VAR = []\n",
    "    TP_VAR = []\n",
    "    \n",
    "    #for i in tqdm(range(3)): # 테스트용 코드\n",
    "    for i in range(np.int(end_window)):\n",
    "        #print(i)\n",
    "        if i == 0:\n",
    "            #print(start_window)\n",
    "            rh_window = RH[start_window:window] # 0부터 window=48 까지를 슬라이싱 해서 받습니다.\n",
    "            tp_window = TP[start_window:window]\n",
    "            # 평균을 뽑아줍니다.\n",
    "            rh_avg = rh_window.mean()\n",
    "            tp_avg = tp_window.mean()\n",
    "            # 분산을 뽑아줍니다.\n",
    "            rh_var = rh_window.var()\n",
    "            tp_var = tp_window.var()\n",
    "            # 리스트로 만들어줍니다.\n",
    "            rh_avg_list = [rh_avg]*48\n",
    "            tp_avg_list = [tp_avg]*48\n",
    "            rh_var_list = [rh_var]*48\n",
    "            tp_var_list = [tp_var]*48\n",
    "            \n",
    "            # 리스트에 더해줍니다.\n",
    "            RH_AVG = RH_AVG + rh_avg_list\n",
    "            TP_AVG = TP_AVG + tp_avg_list\n",
    "            RH_VAR = RH_VAR + rh_var_list\n",
    "            TP_VAR = TP_VAR + tp_var_list\n",
    "        else:\n",
    "            #print(window)\n",
    "            rh_window = RH[(window*i):(window*(i+1))] # window*i 부터 window*(i+1) 까지를 슬라이싱\n",
    "            tp_window = TP[(window*i):(window*(i+1))]\n",
    "            # 평균을 뽑아줍니다.\n",
    "            rh_avg = rh_window.mean()\n",
    "            tp_avg = tp_window.mean()\n",
    "            # 분산을 뽑아줍니다.\n",
    "            rh_var = rh_window.var()\n",
    "            tp_var = tp_window.var()\n",
    "            # 리스트로 만들어줍니다.\n",
    "            rh_avg_list = [rh_avg]*48\n",
    "            tp_avg_list = [tp_avg]*48\n",
    "            rh_var_list = [rh_var]*48\n",
    "            tp_var_list = [tp_var]*48\n",
    "            \n",
    "            # 리스트에 더해줍니다.\n",
    "            RH_AVG = RH_AVG + rh_avg_list\n",
    "            TP_AVG = TP_AVG + tp_avg_list\n",
    "            RH_VAR = RH_VAR + rh_var_list\n",
    "            TP_VAR = TP_VAR + tp_var_list\n",
    "            \n",
    "    train['RH_AVG'] = RH_AVG\n",
    "    train['TP_AVG'] = TP_AVG\n",
    "    train['RH_VAR'] = RH_VAR\n",
    "    train['TP_VAR'] = TP_VAR\n",
    "    \n",
    "    return train"
   ]
  }
 ],
 "metadata": {
  "kernelspec": {
   "display_name": "Python 3",
   "language": "python",
   "name": "python3"
  },
  "language_info": {
   "codemirror_mode": {
    "name": "ipython",
    "version": 3
   },
   "file_extension": ".py",
   "mimetype": "text/x-python",
   "name": "python",
   "nbconvert_exporter": "python",
   "pygments_lexer": "ipython3",
   "version": "3.7.7"
  }
 },
 "nbformat": 4,
 "nbformat_minor": 4
}
