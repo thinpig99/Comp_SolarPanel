{
 "cells": [
  {
   "cell_type": "markdown",
   "metadata": {},
   "source": [
    "# 새로운 도전, Sun Angle, 만들기, GHI 만들기"
   ]
  },
  {
   "cell_type": "markdown",
   "metadata": {},
   "source": [
    "유튜브로 태양광 발전에 대한 공부를 좀 하고 왔습니다. 역시 도메인 공부를 해야 합니다. 깨우친 것은 다음과 같습니다.\n",
    "\n",
    "1. 태양광은 여름보다 봄이 효율이 더 좋다. -> 기온에 매우 민감하다.\n",
    "    1.1 기온이 25도씨가 넘어가면 효율이 떨어지기 시작한다.\n",
    "    1.2 일조량도 중요하지만 기온도 매우 중요하다.\n",
    "    \n",
    "2. 남중고도각이라는 게 있다. 서울은 12시 30분에 정남향이다.\n",
    "    1.1 하지 75.9도, 동지 28.9도로 매 절기마다 3.9도씩 변한다.\n",
    "    \n",
    "즉, 매번 90도로 남중고도각을 맞췄던 기존의 GHI는 너무 오차가 큰 것이었습니다. 동지는 30도도 되지 않습니다."
   ]
  },
  {
   "cell_type": "markdown",
   "metadata": {},
   "source": [
    "그렇다면 이것을 어떻게 활용하느냐?! 저렇게 오차가 크다면 계절을 알아야 하지 않겠느냐? 근데 테스트 데이터는 모르지 않느냐?!\n",
    "\n",
    "-> 이것은 정지훈 선생께서 말씀하신, 해당 테스트 데이터를 트레인 데이터의 구간에 맞춰서 유사도를 측정하여 날짜를 추정하는 알고리즘을 만들어야 겠습니다."
   ]
  },
  {
   "cell_type": "markdown",
   "metadata": {},
   "source": [
    "해당 기간의 날짜만 나온다면, 자동으로 Sun angle을 뽑을 수 있고, 자동으로 조금 더 정확한 GHI를 뽑을 수 있습니다."
   ]
  },
  {
   "cell_type": "markdown",
   "metadata": {},
   "source": [
    "아키텍쳐를 짜봅시다.\n",
    "\n",
    "일단 시계열성을 가지고 있는 column을 시각화를 통해 알아왔습니다.\n",
    "- Target, T, RH 이렇게 3가지를 활용할 것입니다.\n",
    "\n",
    "1. 각 column을 특정 구간의 동일 column과 비교해서 유사도를 측정합니다.\n",
    "2. 그 유사도 값들을 다시 평균 냅니다.\n",
    "3. 그 값이 가장 최소가 되는 되는 구간을 내뱉습니다."
   ]
  },
  {
   "cell_type": "code",
   "execution_count": 1,
   "metadata": {},
   "outputs": [],
   "source": [
    "import load_dtypes as ld\n",
    "import warnings\n",
    "warnings.filterwarnings(action='ignore')\n",
    "import os, sys\n",
    "\n",
    "import pandas as pd\n",
    "pd.set_option('display.max_columns', None)\n",
    "pd.set_option('display.max_rows', 100)\n",
    "\n",
    "import numpy as np\n",
    "\n",
    "\n",
    "import matplotlib.pyplot as plt\n",
    "import seaborn as sns\n",
    "\n",
    "from tqdm import tqdm\n",
    "from lightgbm import LGBMRegressor\n",
    "from catboost import CatBoostRegressor\n",
    "from xgboost import XGBRegressor\n",
    "from sklearn.ensemble import RandomForestRegressor\n",
    "\n",
    "from sklearn.model_selection import train_test_split\n",
    "from sklearn.model_selection import cross_val_score\n",
    "from sklearn.model_selection import GridSearchCV\n",
    "\n",
    "from sklearn.model_selection import KFold"
   ]
  },
  {
   "cell_type": "code",
   "execution_count": 2,
   "metadata": {},
   "outputs": [],
   "source": [
    "TRAIN_PATH = r'C:\\Users\\Wyatt\\wyatt37\\Data\\solarpanel\\train\\train.csv'\n",
    "TEST_PATH = r'C:\\Users\\Wyatt\\wyatt37\\Data\\solarpanel\\test'\n",
    "SUBMISSION_PATH = r'C:\\Users\\Wyatt\\wyatt37\\Data\\solarpanel\\sample_submission.csv'"
   ]
  },
  {
   "cell_type": "code",
   "execution_count": 29,
   "metadata": {},
   "outputs": [
    {
     "name": "stdout",
     "output_type": "stream",
     "text": [
      "C:\\Users\\Wyatt\\wyatt37\\Data\\solarpanel\\train\\train.csv\n",
      "<class 'pandas.core.frame.DataFrame'>\n",
      "RangeIndex: 52560 entries, 0 to 52559\n",
      "Data columns (total 9 columns):\n",
      " #   Column  Non-Null Count  Dtype  \n",
      "---  ------  --------------  -----  \n",
      " 0   Day     52560 non-null  int16  \n",
      " 1   Hour    52560 non-null  int8   \n",
      " 2   Minute  52560 non-null  int8   \n",
      " 3   DHI     52560 non-null  int16  \n",
      " 4   DNI     52560 non-null  int16  \n",
      " 5   WS      52560 non-null  float32\n",
      " 6   RH      52560 non-null  float32\n",
      " 7   T       52560 non-null  int8   \n",
      " 8   TARGET  52560 non-null  float32\n",
      "dtypes: float32(3), int16(3), int8(3)\n",
      "memory usage: 1.1 MB\n",
      "C:\\Users\\Wyatt\\wyatt37\\Data\\solarpanel\\test/0.csv\n"
     ]
    }
   ],
   "source": [
    "train = ld.load_dtypes(TRAIN_PATH)\n",
    "train.info()\n",
    "submission = pd.read_csv(SUBMISSION_PATH)\n",
    "test = ld.load_dtypes(TEST_PATH + '/0.csv')"
   ]
  },
  {
   "cell_type": "code",
   "execution_count": 30,
   "metadata": {},
   "outputs": [],
   "source": [
    "# hour와 minute을 합쳐주는 함수입니다.\n",
    "def sum_hour_minute(train):\n",
    "    # 0과 30으로 되어 있는 minute을 0과 0.5로 바꿉니다.\n",
    "    train.Minute = round(train.Minute * 0.017, 1)\n",
    "    # hour에 minute을 더해줍니다.\n",
    "    train.Hour = train.Hour + train.Minute\n",
    "    \n",
    "    return train"
   ]
  },
  {
   "cell_type": "code",
   "execution_count": 31,
   "metadata": {},
   "outputs": [
    {
     "data": {
      "text/html": [
       "<div>\n",
       "<style scoped>\n",
       "    .dataframe tbody tr th:only-of-type {\n",
       "        vertical-align: middle;\n",
       "    }\n",
       "\n",
       "    .dataframe tbody tr th {\n",
       "        vertical-align: top;\n",
       "    }\n",
       "\n",
       "    .dataframe thead th {\n",
       "        text-align: right;\n",
       "    }\n",
       "</style>\n",
       "<table border=\"1\" class=\"dataframe\">\n",
       "  <thead>\n",
       "    <tr style=\"text-align: right;\">\n",
       "      <th></th>\n",
       "      <th>Day</th>\n",
       "      <th>Hour</th>\n",
       "      <th>Minute</th>\n",
       "      <th>DHI</th>\n",
       "      <th>DNI</th>\n",
       "      <th>WS</th>\n",
       "      <th>RH</th>\n",
       "      <th>T</th>\n",
       "      <th>TARGET</th>\n",
       "    </tr>\n",
       "  </thead>\n",
       "  <tbody>\n",
       "    <tr>\n",
       "      <th>0</th>\n",
       "      <td>0</td>\n",
       "      <td>0.0</td>\n",
       "      <td>0.0</td>\n",
       "      <td>0</td>\n",
       "      <td>0</td>\n",
       "      <td>1.5</td>\n",
       "      <td>69.080002</td>\n",
       "      <td>-12</td>\n",
       "      <td>0.0</td>\n",
       "    </tr>\n",
       "    <tr>\n",
       "      <th>1</th>\n",
       "      <td>0</td>\n",
       "      <td>0.5</td>\n",
       "      <td>0.5</td>\n",
       "      <td>0</td>\n",
       "      <td>0</td>\n",
       "      <td>1.5</td>\n",
       "      <td>69.059998</td>\n",
       "      <td>-12</td>\n",
       "      <td>0.0</td>\n",
       "    </tr>\n",
       "    <tr>\n",
       "      <th>2</th>\n",
       "      <td>0</td>\n",
       "      <td>1.0</td>\n",
       "      <td>0.0</td>\n",
       "      <td>0</td>\n",
       "      <td>0</td>\n",
       "      <td>1.6</td>\n",
       "      <td>71.779999</td>\n",
       "      <td>-12</td>\n",
       "      <td>0.0</td>\n",
       "    </tr>\n",
       "    <tr>\n",
       "      <th>3</th>\n",
       "      <td>0</td>\n",
       "      <td>1.5</td>\n",
       "      <td>0.5</td>\n",
       "      <td>0</td>\n",
       "      <td>0</td>\n",
       "      <td>1.6</td>\n",
       "      <td>71.750000</td>\n",
       "      <td>-12</td>\n",
       "      <td>0.0</td>\n",
       "    </tr>\n",
       "    <tr>\n",
       "      <th>4</th>\n",
       "      <td>0</td>\n",
       "      <td>2.0</td>\n",
       "      <td>0.0</td>\n",
       "      <td>0</td>\n",
       "      <td>0</td>\n",
       "      <td>1.6</td>\n",
       "      <td>75.199997</td>\n",
       "      <td>-12</td>\n",
       "      <td>0.0</td>\n",
       "    </tr>\n",
       "    <tr>\n",
       "      <th>...</th>\n",
       "      <td>...</td>\n",
       "      <td>...</td>\n",
       "      <td>...</td>\n",
       "      <td>...</td>\n",
       "      <td>...</td>\n",
       "      <td>...</td>\n",
       "      <td>...</td>\n",
       "      <td>...</td>\n",
       "      <td>...</td>\n",
       "    </tr>\n",
       "    <tr>\n",
       "      <th>52555</th>\n",
       "      <td>1094</td>\n",
       "      <td>21.5</td>\n",
       "      <td>0.5</td>\n",
       "      <td>0</td>\n",
       "      <td>0</td>\n",
       "      <td>2.4</td>\n",
       "      <td>70.699997</td>\n",
       "      <td>-4</td>\n",
       "      <td>0.0</td>\n",
       "    </tr>\n",
       "    <tr>\n",
       "      <th>52556</th>\n",
       "      <td>1094</td>\n",
       "      <td>22.0</td>\n",
       "      <td>0.0</td>\n",
       "      <td>0</td>\n",
       "      <td>0</td>\n",
       "      <td>2.4</td>\n",
       "      <td>66.790001</td>\n",
       "      <td>-4</td>\n",
       "      <td>0.0</td>\n",
       "    </tr>\n",
       "    <tr>\n",
       "      <th>52557</th>\n",
       "      <td>1094</td>\n",
       "      <td>22.5</td>\n",
       "      <td>0.5</td>\n",
       "      <td>0</td>\n",
       "      <td>0</td>\n",
       "      <td>2.2</td>\n",
       "      <td>66.779999</td>\n",
       "      <td>-4</td>\n",
       "      <td>0.0</td>\n",
       "    </tr>\n",
       "    <tr>\n",
       "      <th>52558</th>\n",
       "      <td>1094</td>\n",
       "      <td>23.0</td>\n",
       "      <td>0.0</td>\n",
       "      <td>0</td>\n",
       "      <td>0</td>\n",
       "      <td>2.1</td>\n",
       "      <td>67.720001</td>\n",
       "      <td>-4</td>\n",
       "      <td>0.0</td>\n",
       "    </tr>\n",
       "    <tr>\n",
       "      <th>52559</th>\n",
       "      <td>1094</td>\n",
       "      <td>23.5</td>\n",
       "      <td>0.5</td>\n",
       "      <td>0</td>\n",
       "      <td>0</td>\n",
       "      <td>2.1</td>\n",
       "      <td>67.699997</td>\n",
       "      <td>-4</td>\n",
       "      <td>0.0</td>\n",
       "    </tr>\n",
       "  </tbody>\n",
       "</table>\n",
       "<p>52560 rows × 9 columns</p>\n",
       "</div>"
      ],
      "text/plain": [
       "        Day  Hour  Minute  DHI  DNI   WS         RH   T  TARGET\n",
       "0         0   0.0     0.0    0    0  1.5  69.080002 -12     0.0\n",
       "1         0   0.5     0.5    0    0  1.5  69.059998 -12     0.0\n",
       "2         0   1.0     0.0    0    0  1.6  71.779999 -12     0.0\n",
       "3         0   1.5     0.5    0    0  1.6  71.750000 -12     0.0\n",
       "4         0   2.0     0.0    0    0  1.6  75.199997 -12     0.0\n",
       "...     ...   ...     ...  ...  ...  ...        ...  ..     ...\n",
       "52555  1094  21.5     0.5    0    0  2.4  70.699997  -4     0.0\n",
       "52556  1094  22.0     0.0    0    0  2.4  66.790001  -4     0.0\n",
       "52557  1094  22.5     0.5    0    0  2.2  66.779999  -4     0.0\n",
       "52558  1094  23.0     0.0    0    0  2.1  67.720001  -4     0.0\n",
       "52559  1094  23.5     0.5    0    0  2.1  67.699997  -4     0.0\n",
       "\n",
       "[52560 rows x 9 columns]"
      ]
     },
     "execution_count": 31,
     "metadata": {},
     "output_type": "execute_result"
    }
   ],
   "source": [
    "train = sum_hour_minute(train)\n",
    "train"
   ]
  },
  {
   "cell_type": "markdown",
   "metadata": {},
   "source": [
    "## Step-1: Add Season to Train"
   ]
  },
  {
   "cell_type": "markdown",
   "metadata": {},
   "source": [
    "train 데이터에 계절값을 넣어주겠습니다.<br>\n",
    "그러려면 해당 day가 어느 시즌인지를 추정할 수 있어야 합니다.<br>\n",
    "시즈널러티와 트렌드를 통해 얼추 추정은 하겠으나, 정확히 추정해야 하기 때문에 기준 값을 찾아야 합니다.\n",
    "\n",
    "어렵네요. 최근 3년간의 데이터를 살펴본 결과 보통 7월 말에서 8월 초가 가장 더운 날씨입니다. 누구 말로는 8월 5일이 최고로 더운 날이라고는 하는데 아무튼"
   ]
  },
  {
   "cell_type": "code",
   "execution_count": 6,
   "metadata": {},
   "outputs": [
    {
     "data": {
      "image/png": "[encoded data removed]",
      "text/plain": [
       "<Figure size 864x288 with 1 Axes>"
      ]
     },
     "metadata": {
      "needs_background": "light"
     },
     "output_type": "display_data"
    }
   ],
   "source": [
    "train['T'].plot(figsize=(12, 4))\n",
    "plt.show()"
   ]
  },
  {
   "cell_type": "code",
   "execution_count": 7,
   "metadata": {},
   "outputs": [],
   "source": [
    "# 그냥 속 시원하게 1월 1일부터 넣어봐..?\n",
    "# 52560개, 1095일, 3년 딱 맞음.\n",
    "\n",
    "new_df = pd.DataFrame(index=pd.date_range(start='2017-01-01', end='2019-12-31', freq='D'))\n",
    "\n",
    "days = []\n",
    "for i in range(len(new_df)):\n",
    "    days.append(i)\n",
    "    \n",
    "new_df['Day'] = days"
   ]
  },
  {
   "cell_type": "code",
   "execution_count": 9,
   "metadata": {},
   "outputs": [
    {
     "data": {
      "text/html": [
       "<div>\n",
       "<style scoped>\n",
       "    .dataframe tbody tr th:only-of-type {\n",
       "        vertical-align: middle;\n",
       "    }\n",
       "\n",
       "    .dataframe tbody tr th {\n",
       "        vertical-align: top;\n",
       "    }\n",
       "\n",
       "    .dataframe thead th {\n",
       "        text-align: right;\n",
       "    }\n",
       "</style>\n",
       "<table border=\"1\" class=\"dataframe\">\n",
       "  <thead>\n",
       "    <tr style=\"text-align: right;\">\n",
       "      <th></th>\n",
       "      <th>Day</th>\n",
       "    </tr>\n",
       "  </thead>\n",
       "  <tbody>\n",
       "    <tr>\n",
       "      <th>2017-01-01</th>\n",
       "      <td>0</td>\n",
       "    </tr>\n",
       "    <tr>\n",
       "      <th>2017-01-02</th>\n",
       "      <td>1</td>\n",
       "    </tr>\n",
       "    <tr>\n",
       "      <th>2017-01-03</th>\n",
       "      <td>2</td>\n",
       "    </tr>\n",
       "    <tr>\n",
       "      <th>2017-01-04</th>\n",
       "      <td>3</td>\n",
       "    </tr>\n",
       "    <tr>\n",
       "      <th>2017-01-05</th>\n",
       "      <td>4</td>\n",
       "    </tr>\n",
       "    <tr>\n",
       "      <th>...</th>\n",
       "      <td>...</td>\n",
       "    </tr>\n",
       "    <tr>\n",
       "      <th>2019-12-27</th>\n",
       "      <td>1090</td>\n",
       "    </tr>\n",
       "    <tr>\n",
       "      <th>2019-12-28</th>\n",
       "      <td>1091</td>\n",
       "    </tr>\n",
       "    <tr>\n",
       "      <th>2019-12-29</th>\n",
       "      <td>1092</td>\n",
       "    </tr>\n",
       "    <tr>\n",
       "      <th>2019-12-30</th>\n",
       "      <td>1093</td>\n",
       "    </tr>\n",
       "    <tr>\n",
       "      <th>2019-12-31</th>\n",
       "      <td>1094</td>\n",
       "    </tr>\n",
       "  </tbody>\n",
       "</table>\n",
       "<p>1095 rows × 1 columns</p>\n",
       "</div>"
      ],
      "text/plain": [
       "             Day\n",
       "2017-01-01     0\n",
       "2017-01-02     1\n",
       "2017-01-03     2\n",
       "2017-01-04     3\n",
       "2017-01-05     4\n",
       "...          ...\n",
       "2019-12-27  1090\n",
       "2019-12-28  1091\n",
       "2019-12-29  1092\n",
       "2019-12-30  1093\n",
       "2019-12-31  1094\n",
       "\n",
       "[1095 rows x 1 columns]"
      ]
     },
     "execution_count": 9,
     "metadata": {},
     "output_type": "execute_result"
    }
   ],
   "source": [
    "new_df"
   ]
  },
  {
   "cell_type": "markdown",
   "metadata": {},
   "source": [
    "대충 날짜를 때려 박겠습니다. 합쳐주는 건 나중에"
   ]
  },
  {
   "cell_type": "markdown",
   "metadata": {},
   "source": [
    "## Step-2: Sun Angle"
   ]
  },
  {
   "cell_type": "markdown",
   "metadata": {},
   "source": [
    "날짜를 맞춰 주었으니, 이제는 남중고도각을 만들어주어야겠습니다.\n",
    "\n",
    "위에서 말했다시피 6월 21일인 하지에 75.9도,<br>\n",
    "12월 22일인 동지에 28.9도, <br>\n",
    "그리고 절기(15일)마다 3.9도씩 변화하기 때문에, 하루에 약 0.26도 변화한다고 볼 수 있습니다."
   ]
  },
  {
   "cell_type": "markdown",
   "metadata": {},
   "source": [
    "데이터가 하루에 48개씩 반복되기 때문에 앞서 사용했던 방법과 마찬가지로, 따로 만들어서 merge해주는 게 필요합니다."
   ]
  },
  {
   "cell_type": "code",
   "execution_count": 10,
   "metadata": {},
   "outputs": [],
   "source": [
    "# 위에서 만든 new_df 재활용쓰\n",
    "new_df['Max_Angle'] = np.nan # 일단 nan으로 column 생성"
   ]
  },
  {
   "cell_type": "code",
   "execution_count": 11,
   "metadata": {},
   "outputs": [
    {
     "data": {
      "text/plain": [
       "365"
      ]
     },
     "execution_count": 11,
     "metadata": {},
     "output_type": "execute_result"
    }
   ],
   "source": [
    "# 365일 동안 sun angle을 만들었습니다. 어쩌다보니 하루에 .252도씩 넘어가네요.\n",
    "\n",
    "angle = []\n",
    "start = 31.5\n",
    "for i in range(300):\n",
    "    angle.append(start)\n",
    "    start+=.252\n",
    "    \n",
    "    if start > 76:\n",
    "        break\n",
    "        \n",
    "for i in range(300):\n",
    "    start-=.252\n",
    "    angle.append(start)\n",
    "    \n",
    "    if start < 28.9:\n",
    "        break\n",
    "        \n",
    "len(angle)"
   ]
  },
  {
   "cell_type": "code",
   "execution_count": 12,
   "metadata": {},
   "outputs": [],
   "source": [
    "new_df.Max_Angle = angle*3"
   ]
  },
  {
   "cell_type": "code",
   "execution_count": 13,
   "metadata": {},
   "outputs": [
    {
     "data": {
      "image/png": "[encoded data removed]",
      "text/plain": [
       "<Figure size 432x288 with 1 Axes>"
      ]
     },
     "metadata": {
      "needs_background": "light"
     },
     "output_type": "display_data"
    }
   ],
   "source": [
    "new_df.Max_Angle.plot()\n",
    "plt.show()"
   ]
  },
  {
   "cell_type": "markdown",
   "metadata": {},
   "source": [
    "아주 잘 그려졌습니다."
   ]
  },
  {
   "cell_type": "markdown",
   "metadata": {},
   "source": [
    "## Step-3: Sun Angle by half hour"
   ]
  },
  {
   "cell_type": "markdown",
   "metadata": {},
   "source": [
    "거의 다 왔습니다. 이제 그 날의 남중고도각이 나왔으니, 시간별로 천정각을 구해줘야 합니다.\n",
    "\n",
    "전에 썼던 방식을 그대로 차용하면 됩니다."
   ]
  },
  {
   "cell_type": "markdown",
   "metadata": {},
   "source": [
    "문제는 day마다 남중고도각이 다르기 때문에, day마다 max값을 뽑아서 0부터 max까지 일정한 간격으로 값을 넣어줘야 하는데, 이 과정이 정말 어렵습니다. 그래도 한 번 도전해봅시다."
   ]
  },
  {
   "cell_type": "code",
   "execution_count": 32,
   "metadata": {},
   "outputs": [],
   "source": [
    "# 먼저 만들어 둔 date와 max_angle을 합쳐줍니다.\n",
    "train = pd.merge(train, new_df.reset_index(), how='outer', on=['Day'])\n",
    "# column name을 보기 좋게 바꿔줍시다.\n",
    "train.rename({'index':'Date'}, axis=1, inplace=True)"
   ]
  },
  {
   "cell_type": "code",
   "execution_count": 33,
   "metadata": {},
   "outputs": [
    {
     "data": {
      "text/html": [
       "<div>\n",
       "<style scoped>\n",
       "    .dataframe tbody tr th:only-of-type {\n",
       "        vertical-align: middle;\n",
       "    }\n",
       "\n",
       "    .dataframe tbody tr th {\n",
       "        vertical-align: top;\n",
       "    }\n",
       "\n",
       "    .dataframe thead th {\n",
       "        text-align: right;\n",
       "    }\n",
       "</style>\n",
       "<table border=\"1\" class=\"dataframe\">\n",
       "  <thead>\n",
       "    <tr style=\"text-align: right;\">\n",
       "      <th></th>\n",
       "      <th>Day</th>\n",
       "      <th>Hour</th>\n",
       "      <th>Minute</th>\n",
       "      <th>DHI</th>\n",
       "      <th>DNI</th>\n",
       "      <th>WS</th>\n",
       "      <th>RH</th>\n",
       "      <th>T</th>\n",
       "      <th>TARGET</th>\n",
       "      <th>Date</th>\n",
       "      <th>Max_Angle</th>\n",
       "    </tr>\n",
       "  </thead>\n",
       "  <tbody>\n",
       "    <tr>\n",
       "      <th>0</th>\n",
       "      <td>0</td>\n",
       "      <td>0.0</td>\n",
       "      <td>0.0</td>\n",
       "      <td>0</td>\n",
       "      <td>0</td>\n",
       "      <td>1.5</td>\n",
       "      <td>69.080002</td>\n",
       "      <td>-12</td>\n",
       "      <td>0.0</td>\n",
       "      <td>2017-01-01</td>\n",
       "      <td>31.5</td>\n",
       "    </tr>\n",
       "    <tr>\n",
       "      <th>1</th>\n",
       "      <td>0</td>\n",
       "      <td>0.5</td>\n",
       "      <td>0.5</td>\n",
       "      <td>0</td>\n",
       "      <td>0</td>\n",
       "      <td>1.5</td>\n",
       "      <td>69.059998</td>\n",
       "      <td>-12</td>\n",
       "      <td>0.0</td>\n",
       "      <td>2017-01-01</td>\n",
       "      <td>31.5</td>\n",
       "    </tr>\n",
       "    <tr>\n",
       "      <th>2</th>\n",
       "      <td>0</td>\n",
       "      <td>1.0</td>\n",
       "      <td>0.0</td>\n",
       "      <td>0</td>\n",
       "      <td>0</td>\n",
       "      <td>1.6</td>\n",
       "      <td>71.779999</td>\n",
       "      <td>-12</td>\n",
       "      <td>0.0</td>\n",
       "      <td>2017-01-01</td>\n",
       "      <td>31.5</td>\n",
       "    </tr>\n",
       "    <tr>\n",
       "      <th>3</th>\n",
       "      <td>0</td>\n",
       "      <td>1.5</td>\n",
       "      <td>0.5</td>\n",
       "      <td>0</td>\n",
       "      <td>0</td>\n",
       "      <td>1.6</td>\n",
       "      <td>71.750000</td>\n",
       "      <td>-12</td>\n",
       "      <td>0.0</td>\n",
       "      <td>2017-01-01</td>\n",
       "      <td>31.5</td>\n",
       "    </tr>\n",
       "    <tr>\n",
       "      <th>4</th>\n",
       "      <td>0</td>\n",
       "      <td>2.0</td>\n",
       "      <td>0.0</td>\n",
       "      <td>0</td>\n",
       "      <td>0</td>\n",
       "      <td>1.6</td>\n",
       "      <td>75.199997</td>\n",
       "      <td>-12</td>\n",
       "      <td>0.0</td>\n",
       "      <td>2017-01-01</td>\n",
       "      <td>31.5</td>\n",
       "    </tr>\n",
       "  </tbody>\n",
       "</table>\n",
       "</div>"
      ],
      "text/plain": [
       "   Day  Hour  Minute  DHI  DNI   WS         RH   T  TARGET       Date  \\\n",
       "0    0   0.0     0.0    0    0  1.5  69.080002 -12     0.0 2017-01-01   \n",
       "1    0   0.5     0.5    0    0  1.5  69.059998 -12     0.0 2017-01-01   \n",
       "2    0   1.0     0.0    0    0  1.6  71.779999 -12     0.0 2017-01-01   \n",
       "3    0   1.5     0.5    0    0  1.6  71.750000 -12     0.0 2017-01-01   \n",
       "4    0   2.0     0.0    0    0  1.6  75.199997 -12     0.0 2017-01-01   \n",
       "\n",
       "   Max_Angle  \n",
       "0       31.5  \n",
       "1       31.5  \n",
       "2       31.5  \n",
       "3       31.5  \n",
       "4       31.5  "
      ]
     },
     "execution_count": 33,
     "metadata": {},
     "output_type": "execute_result"
    }
   ],
   "source": [
    "train.head()"
   ]
  },
  {
   "cell_type": "code",
   "execution_count": 34,
   "metadata": {},
   "outputs": [],
   "source": [
    "def make_sun_angle(new_train, window=48):\n",
    "    \"\"\"\n",
    "    definition:\n",
    "    df를 하루 단위로 잘라서 해당 일자의 남중고도각에 맞춰 일출 시간과 일몰 시간에 대한\n",
    "    이동각을 계산해서 각각 집어 넣어주는 함수입니다.\n",
    "    이 함수를 통해 시간별 태양의 천정각을 추출할 수 있습니다.\n",
    "    \"\"\"\n",
    "    new_train2 = []\n",
    "\n",
    "    for h in range(int(new_train.shape[0]/window)):\n",
    "        temp = new_train[(h)*window:(h+1)*window]\n",
    "        temp = temp.reset_index(drop=True)\n",
    "\n",
    "        # 일출부터 정오까지 angle 채우는 코드 ---------------------------------------------------------\n",
    "        for m in range(temp.shape[0]): # morning 이니까 m으로 받겠습니다.\n",
    "            if temp.DHI[m] > 0: # 처음부터 타고 내려갔을 때, DHI가 최초로 0을 넘는 순간.\n",
    "                sunrise = temp.Hour[m] # 그 시간을 일출 시간으로 받는다.\n",
    "                sunrise_idx = m-1 # 그 idx-1 번을 받는다.\n",
    "                max_angle = temp.Max_Angle[m] # max_angle을 받는다.\n",
    "\n",
    "                break # 받으면 멈춘다.\n",
    "            else:\n",
    "                pass\n",
    "\n",
    "        count = ((12.5 - sunrise)/0.5)+1 # 기준시인 12.5에서 일출 시간을 빼고, 단위인 0.5로 나눈다. 1을 더해줘야 맞음.\n",
    "        angle = max_angle / count # max_angle을 count로 나눠주면 0.5시간당 이동각이 나온다.\n",
    "\n",
    "        for i in range(int(count)): # 이제 채워주자.\n",
    "            temp.loc[sunrise_idx+i, 'Angle'] = i*angle # 일출 시간 idx부터 count 수만큼 angle을 채워준다.\n",
    "\n",
    "\n",
    "        # 정오부터 일몰까지 angle 채우는 코드 ---------------------------------------------------------\n",
    "        # 다 똑같지만, 정오부터 내려가기 때문에 24라는 lag을 준다.\n",
    "        for d in range(temp.shape[0]): # 저녁이니까 d로 받습니다.\n",
    "            lag = 24\n",
    "            if temp.DHI[d+lag] < 1: # 정오부터 시작해서 최초로 DHI가 1보다 작아지는 순간.\n",
    "                sunset = temp.Hour[d+lag]\n",
    "                sunset_idx = d+1+lag\n",
    "                max_angle = temp.Max_Angle[d+lag]\n",
    "\n",
    "                break\n",
    "            else:\n",
    "                pass\n",
    "\n",
    "        count = (sunset - 12.5)/0.5 # 일몰시간에서 12.5를 빼고 나눠준다.\n",
    "        angle = max_angle / count # 마찬가지로 0.5시간당 이동각이 나온다.\n",
    "\n",
    "        for k in range(int(count)):\n",
    "            temp.loc[(sunset_idx-count-1)+k, 'Angle'] = max_angle - (k*angle) # 정오부터 채워줍니다.\n",
    "\n",
    "        temp = temp.fillna(.0) # 채워지지 않는 시간은 night이므로 0으로 채워줍니다.\n",
    "\n",
    "        new_train2.append(temp)\n",
    "        \n",
    "    new_train3 = pd.concat(new_train2)\n",
    "    new_train3 = new_train3.reset_index(drop=True)\n",
    "\n",
    "    return new_train3"
   ]
  },
  {
   "cell_type": "code",
   "execution_count": 35,
   "metadata": {},
   "outputs": [],
   "source": [
    "train = make_sun_angle(train)"
   ]
  },
  {
   "cell_type": "code",
   "execution_count": 37,
   "metadata": {},
   "outputs": [
    {
     "data": {
      "text/html": [
       "<div>\n",
       "<style scoped>\n",
       "    .dataframe tbody tr th:only-of-type {\n",
       "        vertical-align: middle;\n",
       "    }\n",
       "\n",
       "    .dataframe tbody tr th {\n",
       "        vertical-align: top;\n",
       "    }\n",
       "\n",
       "    .dataframe thead th {\n",
       "        text-align: right;\n",
       "    }\n",
       "</style>\n",
       "<table border=\"1\" class=\"dataframe\">\n",
       "  <thead>\n",
       "    <tr style=\"text-align: right;\">\n",
       "      <th></th>\n",
       "      <th>Day</th>\n",
       "      <th>Hour</th>\n",
       "      <th>Minute</th>\n",
       "      <th>DHI</th>\n",
       "      <th>DNI</th>\n",
       "      <th>WS</th>\n",
       "      <th>RH</th>\n",
       "      <th>T</th>\n",
       "      <th>TARGET</th>\n",
       "      <th>Date</th>\n",
       "      <th>Max_Angle</th>\n",
       "      <th>Angle</th>\n",
       "    </tr>\n",
       "  </thead>\n",
       "  <tbody>\n",
       "    <tr>\n",
       "      <th>15</th>\n",
       "      <td>0</td>\n",
       "      <td>7.5</td>\n",
       "      <td>0.5</td>\n",
       "      <td>0</td>\n",
       "      <td>0</td>\n",
       "      <td>1.6</td>\n",
       "      <td>64.830002</td>\n",
       "      <td>-10</td>\n",
       "      <td>0.000000</td>\n",
       "      <td>2017-01-01</td>\n",
       "      <td>31.5</td>\n",
       "      <td>0.00</td>\n",
       "    </tr>\n",
       "    <tr>\n",
       "      <th>16</th>\n",
       "      <td>0</td>\n",
       "      <td>8.0</td>\n",
       "      <td>0.0</td>\n",
       "      <td>29</td>\n",
       "      <td>494</td>\n",
       "      <td>1.8</td>\n",
       "      <td>65.449997</td>\n",
       "      <td>-9</td>\n",
       "      <td>7.039287</td>\n",
       "      <td>2017-01-01</td>\n",
       "      <td>31.5</td>\n",
       "      <td>3.15</td>\n",
       "    </tr>\n",
       "    <tr>\n",
       "      <th>17</th>\n",
       "      <td>0</td>\n",
       "      <td>8.5</td>\n",
       "      <td>0.5</td>\n",
       "      <td>61</td>\n",
       "      <td>7</td>\n",
       "      <td>1.9</td>\n",
       "      <td>55.900002</td>\n",
       "      <td>-7</td>\n",
       "      <td>5.912871</td>\n",
       "      <td>2017-01-01</td>\n",
       "      <td>31.5</td>\n",
       "      <td>6.30</td>\n",
       "    </tr>\n",
       "    <tr>\n",
       "      <th>18</th>\n",
       "      <td>0</td>\n",
       "      <td>9.0</td>\n",
       "      <td>0.0</td>\n",
       "      <td>58</td>\n",
       "      <td>743</td>\n",
       "      <td>2.1</td>\n",
       "      <td>57.389999</td>\n",
       "      <td>-6</td>\n",
       "      <td>22.337267</td>\n",
       "      <td>2017-01-01</td>\n",
       "      <td>31.5</td>\n",
       "      <td>9.45</td>\n",
       "    </tr>\n",
       "    <tr>\n",
       "      <th>19</th>\n",
       "      <td>0</td>\n",
       "      <td>9.5</td>\n",
       "      <td>0.5</td>\n",
       "      <td>67</td>\n",
       "      <td>811</td>\n",
       "      <td>1.9</td>\n",
       "      <td>53.150002</td>\n",
       "      <td>-4</td>\n",
       "      <td>29.469528</td>\n",
       "      <td>2017-01-01</td>\n",
       "      <td>31.5</td>\n",
       "      <td>12.60</td>\n",
       "    </tr>\n",
       "  </tbody>\n",
       "</table>\n",
       "</div>"
      ],
      "text/plain": [
       "    Day  Hour  Minute  DHI  DNI   WS         RH   T     TARGET       Date  \\\n",
       "15    0   7.5     0.5    0    0  1.6  64.830002 -10   0.000000 2017-01-01   \n",
       "16    0   8.0     0.0   29  494  1.8  65.449997  -9   7.039287 2017-01-01   \n",
       "17    0   8.5     0.5   61    7  1.9  55.900002  -7   5.912871 2017-01-01   \n",
       "18    0   9.0     0.0   58  743  2.1  57.389999  -6  22.337267 2017-01-01   \n",
       "19    0   9.5     0.5   67  811  1.9  53.150002  -4  29.469528 2017-01-01   \n",
       "\n",
       "    Max_Angle  Angle  \n",
       "15       31.5   0.00  \n",
       "16       31.5   3.15  \n",
       "17       31.5   6.30  \n",
       "18       31.5   9.45  \n",
       "19       31.5  12.60  "
      ]
     },
     "execution_count": 37,
     "metadata": {},
     "output_type": "execute_result"
    }
   ],
   "source": [
    "train[15:20]"
   ]
  },
  {
   "cell_type": "markdown",
   "metadata": {},
   "source": [
    "## Step-4 : GHI"
   ]
  },
  {
   "cell_type": "markdown",
   "metadata": {},
   "source": [
    "이제 고대하던 GHI를 계산하기만 하면 됩니다. 아주 쉽습니다.\n",
    "\n",
    "GHI = DHI + DNI*cos(k)"
   ]
  },
  {
   "cell_type": "code",
   "execution_count": 38,
   "metadata": {},
   "outputs": [],
   "source": [
    "# 천정각에 의해 GHI를 출력하는 함수입니다.\n",
    "\n",
    "def ghi_formula(DHI, DNI, theta):\n",
    "    return (DHI + (DNI*np.cos(theta*0.0174533)))"
   ]
  },
  {
   "cell_type": "code",
   "execution_count": 39,
   "metadata": {},
   "outputs": [],
   "source": [
    "train['GHI'] = ghi_formula(train.DHI, train.DNI, train.Angle)"
   ]
  },
  {
   "cell_type": "code",
   "execution_count": 40,
   "metadata": {},
   "outputs": [
    {
     "data": {
      "text/html": [
       "<div>\n",
       "<style scoped>\n",
       "    .dataframe tbody tr th:only-of-type {\n",
       "        vertical-align: middle;\n",
       "    }\n",
       "\n",
       "    .dataframe tbody tr th {\n",
       "        vertical-align: top;\n",
       "    }\n",
       "\n",
       "    .dataframe thead th {\n",
       "        text-align: right;\n",
       "    }\n",
       "</style>\n",
       "<table border=\"1\" class=\"dataframe\">\n",
       "  <thead>\n",
       "    <tr style=\"text-align: right;\">\n",
       "      <th></th>\n",
       "      <th>Day</th>\n",
       "      <th>Hour</th>\n",
       "      <th>Minute</th>\n",
       "      <th>DHI</th>\n",
       "      <th>DNI</th>\n",
       "      <th>WS</th>\n",
       "      <th>RH</th>\n",
       "      <th>T</th>\n",
       "      <th>TARGET</th>\n",
       "      <th>Date</th>\n",
       "      <th>Max_Angle</th>\n",
       "      <th>Angle</th>\n",
       "      <th>GHI</th>\n",
       "    </tr>\n",
       "  </thead>\n",
       "  <tbody>\n",
       "    <tr>\n",
       "      <th>15</th>\n",
       "      <td>0</td>\n",
       "      <td>7.5</td>\n",
       "      <td>0.5</td>\n",
       "      <td>0</td>\n",
       "      <td>0</td>\n",
       "      <td>1.6</td>\n",
       "      <td>64.830002</td>\n",
       "      <td>-10</td>\n",
       "      <td>0.000000</td>\n",
       "      <td>2017-01-01</td>\n",
       "      <td>31.5</td>\n",
       "      <td>0.00</td>\n",
       "      <td>0.000000</td>\n",
       "    </tr>\n",
       "    <tr>\n",
       "      <th>16</th>\n",
       "      <td>0</td>\n",
       "      <td>8.0</td>\n",
       "      <td>0.0</td>\n",
       "      <td>29</td>\n",
       "      <td>494</td>\n",
       "      <td>1.8</td>\n",
       "      <td>65.449997</td>\n",
       "      <td>-9</td>\n",
       "      <td>7.039287</td>\n",
       "      <td>2017-01-01</td>\n",
       "      <td>31.5</td>\n",
       "      <td>3.15</td>\n",
       "      <td>522.253614</td>\n",
       "    </tr>\n",
       "    <tr>\n",
       "      <th>17</th>\n",
       "      <td>0</td>\n",
       "      <td>8.5</td>\n",
       "      <td>0.5</td>\n",
       "      <td>61</td>\n",
       "      <td>7</td>\n",
       "      <td>1.9</td>\n",
       "      <td>55.900002</td>\n",
       "      <td>-7</td>\n",
       "      <td>5.912871</td>\n",
       "      <td>2017-01-01</td>\n",
       "      <td>31.5</td>\n",
       "      <td>6.30</td>\n",
       "      <td>67.957727</td>\n",
       "    </tr>\n",
       "    <tr>\n",
       "      <th>18</th>\n",
       "      <td>0</td>\n",
       "      <td>9.0</td>\n",
       "      <td>0.0</td>\n",
       "      <td>58</td>\n",
       "      <td>743</td>\n",
       "      <td>2.1</td>\n",
       "      <td>57.389999</td>\n",
       "      <td>-6</td>\n",
       "      <td>22.337267</td>\n",
       "      <td>2017-01-01</td>\n",
       "      <td>31.5</td>\n",
       "      <td>9.45</td>\n",
       "      <td>790.916929</td>\n",
       "    </tr>\n",
       "    <tr>\n",
       "      <th>19</th>\n",
       "      <td>0</td>\n",
       "      <td>9.5</td>\n",
       "      <td>0.5</td>\n",
       "      <td>67</td>\n",
       "      <td>811</td>\n",
       "      <td>1.9</td>\n",
       "      <td>53.150002</td>\n",
       "      <td>-4</td>\n",
       "      <td>29.469528</td>\n",
       "      <td>2017-01-01</td>\n",
       "      <td>31.5</td>\n",
       "      <td>12.60</td>\n",
       "      <td>858.468477</td>\n",
       "    </tr>\n",
       "  </tbody>\n",
       "</table>\n",
       "</div>"
      ],
      "text/plain": [
       "    Day  Hour  Minute  DHI  DNI   WS         RH   T     TARGET       Date  \\\n",
       "15    0   7.5     0.5    0    0  1.6  64.830002 -10   0.000000 2017-01-01   \n",
       "16    0   8.0     0.0   29  494  1.8  65.449997  -9   7.039287 2017-01-01   \n",
       "17    0   8.5     0.5   61    7  1.9  55.900002  -7   5.912871 2017-01-01   \n",
       "18    0   9.0     0.0   58  743  2.1  57.389999  -6  22.337267 2017-01-01   \n",
       "19    0   9.5     0.5   67  811  1.9  53.150002  -4  29.469528 2017-01-01   \n",
       "\n",
       "    Max_Angle  Angle         GHI  \n",
       "15       31.5   0.00    0.000000  \n",
       "16       31.5   3.15  522.253614  \n",
       "17       31.5   6.30   67.957727  \n",
       "18       31.5   9.45  790.916929  \n",
       "19       31.5  12.60  858.468477  "
      ]
     },
     "execution_count": 40,
     "metadata": {},
     "output_type": "execute_result"
    }
   ],
   "source": [
    "train[15:20]"
   ]
  },
  {
   "cell_type": "markdown",
   "metadata": {},
   "source": [
    "드디어 GHI를 완성했습니다 ㅠㅠ 으헝허어어어엏엉"
   ]
  },
  {
   "cell_type": "markdown",
   "metadata": {},
   "source": [
    "## Step-5: Distance"
   ]
  },
  {
   "cell_type": "markdown",
   "metadata": {},
   "source": [
    "이제 테스트 데이터를 train데이터와의 유사도를 측정해서 값을 받아오기만 하면 끝이 납니다. 고생하셨습니다."
   ]
  },
  {
   "cell_type": "code",
   "execution_count": 41,
   "metadata": {},
   "outputs": [],
   "source": [
    "# numpy array 연산으로 오차를 빠르게 계산합니다.\n",
    "#np.mean(test.RH.values - test.RH.values)\n",
    "\n",
    "# 한 단계씩 내려가면서 비교를 해야 합니다. cnn의 filter와 비슷합니다.\n",
    "\n",
    "def find_test_periods(train, test, window=336):\n",
    "    \"\"\"\n",
    "    definition:\n",
    "    총 336개의 데이터를 가진 test table을 3년의 기간을 가진 train table과 비교하여,\n",
    "    가장 오차가 적은 구간을 찾아 언제 날짜인지를 추정하게 해주는 함수.\n",
    "    ['RH', 'T', 'TARGET'] 을 활용\n",
    "    \"\"\"\n",
    "    \n",
    "    err_box = {}\n",
    "    \n",
    "    for i in range(train.shape[0] - window):\n",
    "        # 각 변수별로 구간을 window 단위로 slicing 해서 numpy연산으로 오차를 계산해줍니다.\n",
    "        err_rh = np.mean(np.abs(train.RH[i:i+window].values - test.RH.values))\n",
    "        err_t = np.mean(np.abs(train['T'][i:i+window].values - test['T'].values))\n",
    "        err_tg = np.mean(np.abs(train.TARGET[i:i+window].values - test.TARGET.values))\n",
    "\n",
    "        # 다시 세 값의 평균을 구합니다.\n",
    "        err_mean = np.mean(err_rh + err_t + err_tg)\n",
    "\n",
    "        # err_box에 오차값과 시작점 idx를 집어 넣습니다.\n",
    "        err_box[err_mean]=i\n",
    "\n",
    "\n",
    "    print(\"Minimum Loss: \", min(err_box))\n",
    "    print(\"Minumum Index: \", err_box[min(err_box)])\n",
    "    \n",
    "    # 사실 loss는 상관없고요. idx만 받으면 됩니다.\n",
    "    idx = err_box[min(err_box)]\n",
    "                  \n",
    "    # 이제 값을 받아줍시다.\n",
    "    test[['Date', 'Max_Angle']] = train[idx:idx+window].reset_index()[['Date', 'Max_Angle']]\n",
    "     \n",
    "    return test"
   ]
  },
  {
   "cell_type": "markdown",
   "metadata": {},
   "source": [
    "드디어 완성했습니다!!!!!!"
   ]
  },
  {
   "cell_type": "markdown",
   "metadata": {},
   "source": [
    "## Step-6: Deploy"
   ]
  },
  {
   "cell_type": "markdown",
   "metadata": {},
   "source": [
    "이제 test를 불러오면서 해당 함수를 적용시켜주면 됩니다."
   ]
  },
  {
   "cell_type": "markdown",
   "metadata": {},
   "source": [
    "먼저 train set을 shift 해줍니다."
   ]
  },
  {
   "cell_type": "markdown",
   "metadata": {},
   "source": [
    "### train test set"
   ]
  },
  {
   "cell_type": "code",
   "execution_count": 43,
   "metadata": {},
   "outputs": [
    {
     "data": {
      "text/plain": [
       "Index(['Day', 'Hour', 'Minute', 'DHI', 'DNI', 'WS', 'RH', 'T', 'TARGET',\n",
       "       'Date', 'Max_Angle', 'Angle', 'GHI'],\n",
       "      dtype='object')"
      ]
     },
     "execution_count": 43,
     "metadata": {},
     "output_type": "execute_result"
    }
   ],
   "source": [
    "train.columns"
   ]
  },
  {
   "cell_type": "code",
   "execution_count": 44,
   "metadata": {},
   "outputs": [],
   "source": [
    "shifted_columns = ['DHI', 'DNI', 'WS', 'RH', 'T', 'TARGET', 'Angle', 'GHI']\n",
    "lags = [48, 96, 144, 192, 240] # 뒤에서부터 하나씩 줄인다."
   ]
  },
  {
   "cell_type": "code",
   "execution_count": 45,
   "metadata": {},
   "outputs": [],
   "source": [
    "def shift_columns(data, shifted_columns, lags):\n",
    "    \n",
    "    temp = data.copy()\n",
    "    for lag in lags:\n",
    "        for col in shifted_columns:\n",
    "            temp[col + '_lag_%s'%lag] = temp[col].shift(lag)\n",
    "            \n",
    "    return temp"
   ]
  },
  {
   "cell_type": "code",
   "execution_count": 46,
   "metadata": {},
   "outputs": [
    {
     "data": {
      "text/plain": [
       "(52560, 53)"
      ]
     },
     "execution_count": 46,
     "metadata": {},
     "output_type": "execute_result"
    }
   ],
   "source": [
    "# shift되지 않은 train은 test를 만들기 위해 필요합니다.\n",
    "# 새로운 df로 받아줍시다.\n",
    "new_train = shift_columns(train, shifted_columns, lags)\n",
    "new_train.shape"
   ]
  },
  {
   "cell_type": "code",
   "execution_count": 47,
   "metadata": {},
   "outputs": [],
   "source": [
    "new_train['TARGET_1'] = new_train.TARGET.shift(-48)\n",
    "new_train['TARGET_2'] = new_train.TARGET_1.shift(-48)"
   ]
  },
  {
   "cell_type": "code",
   "execution_count": 48,
   "metadata": {},
   "outputs": [],
   "source": [
    "# 학습에 쓰지 않을 변수들은 버려줍니다.\n",
    "new_train.drop(['Day', 'Minute', 'Date', 'Max_Angle'], axis=1, inplace=True)"
   ]
  },
  {
   "cell_type": "code",
   "execution_count": 49,
   "metadata": {},
   "outputs": [
    {
     "data": {
      "text/plain": [
       "(52224, 51)"
      ]
     },
     "execution_count": 49,
     "metadata": {},
     "output_type": "execute_result"
    }
   ],
   "source": [
    "new_train.dropna(inplace=True)\n",
    "new_train.shape"
   ]
  },
  {
   "cell_type": "code",
   "execution_count": 52,
   "metadata": {},
   "outputs": [
    {
     "data": {
      "text/html": [
       "<div>\n",
       "<style scoped>\n",
       "    .dataframe tbody tr th:only-of-type {\n",
       "        vertical-align: middle;\n",
       "    }\n",
       "\n",
       "    .dataframe tbody tr th {\n",
       "        vertical-align: top;\n",
       "    }\n",
       "\n",
       "    .dataframe thead th {\n",
       "        text-align: right;\n",
       "    }\n",
       "</style>\n",
       "<table border=\"1\" class=\"dataframe\">\n",
       "  <thead>\n",
       "    <tr style=\"text-align: right;\">\n",
       "      <th></th>\n",
       "      <th>Hour</th>\n",
       "      <th>DHI</th>\n",
       "      <th>DNI</th>\n",
       "      <th>WS</th>\n",
       "      <th>RH</th>\n",
       "      <th>T</th>\n",
       "      <th>TARGET</th>\n",
       "      <th>Angle</th>\n",
       "      <th>GHI</th>\n",
       "      <th>DHI_lag_48</th>\n",
       "      <th>DNI_lag_48</th>\n",
       "      <th>WS_lag_48</th>\n",
       "      <th>RH_lag_48</th>\n",
       "      <th>T_lag_48</th>\n",
       "      <th>TARGET_lag_48</th>\n",
       "      <th>Angle_lag_48</th>\n",
       "      <th>GHI_lag_48</th>\n",
       "      <th>DHI_lag_96</th>\n",
       "      <th>DNI_lag_96</th>\n",
       "      <th>WS_lag_96</th>\n",
       "      <th>RH_lag_96</th>\n",
       "      <th>T_lag_96</th>\n",
       "      <th>TARGET_lag_96</th>\n",
       "      <th>Angle_lag_96</th>\n",
       "      <th>GHI_lag_96</th>\n",
       "      <th>DHI_lag_144</th>\n",
       "      <th>DNI_lag_144</th>\n",
       "      <th>WS_lag_144</th>\n",
       "      <th>RH_lag_144</th>\n",
       "      <th>T_lag_144</th>\n",
       "      <th>TARGET_lag_144</th>\n",
       "      <th>Angle_lag_144</th>\n",
       "      <th>GHI_lag_144</th>\n",
       "      <th>DHI_lag_192</th>\n",
       "      <th>DNI_lag_192</th>\n",
       "      <th>WS_lag_192</th>\n",
       "      <th>RH_lag_192</th>\n",
       "      <th>T_lag_192</th>\n",
       "      <th>TARGET_lag_192</th>\n",
       "      <th>Angle_lag_192</th>\n",
       "      <th>GHI_lag_192</th>\n",
       "      <th>DHI_lag_240</th>\n",
       "      <th>DNI_lag_240</th>\n",
       "      <th>WS_lag_240</th>\n",
       "      <th>RH_lag_240</th>\n",
       "      <th>T_lag_240</th>\n",
       "      <th>TARGET_lag_240</th>\n",
       "      <th>Angle_lag_240</th>\n",
       "      <th>GHI_lag_240</th>\n",
       "      <th>TARGET_1</th>\n",
       "      <th>TARGET_2</th>\n",
       "    </tr>\n",
       "  </thead>\n",
       "  <tbody>\n",
       "    <tr>\n",
       "      <th>240</th>\n",
       "      <td>0.0</td>\n",
       "      <td>0</td>\n",
       "      <td>0</td>\n",
       "      <td>1.5</td>\n",
       "      <td>77.410004</td>\n",
       "      <td>1</td>\n",
       "      <td>0.0</td>\n",
       "      <td>0.0</td>\n",
       "      <td>0.0</td>\n",
       "      <td>0.0</td>\n",
       "      <td>0.0</td>\n",
       "      <td>2.1</td>\n",
       "      <td>72.099998</td>\n",
       "      <td>-5.0</td>\n",
       "      <td>0.0</td>\n",
       "      <td>0.0</td>\n",
       "      <td>0.0</td>\n",
       "      <td>0.0</td>\n",
       "      <td>0.0</td>\n",
       "      <td>1.8</td>\n",
       "      <td>77.760002</td>\n",
       "      <td>-14.0</td>\n",
       "      <td>0.0</td>\n",
       "      <td>0.0</td>\n",
       "      <td>0.0</td>\n",
       "      <td>0.0</td>\n",
       "      <td>0.0</td>\n",
       "      <td>2.2</td>\n",
       "      <td>73.800003</td>\n",
       "      <td>-8.0</td>\n",
       "      <td>0.0</td>\n",
       "      <td>0.0</td>\n",
       "      <td>0.0</td>\n",
       "      <td>0.0</td>\n",
       "      <td>0.0</td>\n",
       "      <td>1.6</td>\n",
       "      <td>90.660004</td>\n",
       "      <td>-10.0</td>\n",
       "      <td>0.0</td>\n",
       "      <td>0.0</td>\n",
       "      <td>0.0</td>\n",
       "      <td>0.0</td>\n",
       "      <td>0.0</td>\n",
       "      <td>1.5</td>\n",
       "      <td>69.080002</td>\n",
       "      <td>-12.0</td>\n",
       "      <td>0.0</td>\n",
       "      <td>0.0</td>\n",
       "      <td>0.0</td>\n",
       "      <td>0.0</td>\n",
       "      <td>0.0</td>\n",
       "    </tr>\n",
       "    <tr>\n",
       "      <th>241</th>\n",
       "      <td>0.5</td>\n",
       "      <td>0</td>\n",
       "      <td>0</td>\n",
       "      <td>1.7</td>\n",
       "      <td>77.419998</td>\n",
       "      <td>1</td>\n",
       "      <td>0.0</td>\n",
       "      <td>0.0</td>\n",
       "      <td>0.0</td>\n",
       "      <td>0.0</td>\n",
       "      <td>0.0</td>\n",
       "      <td>2.0</td>\n",
       "      <td>72.099998</td>\n",
       "      <td>-5.0</td>\n",
       "      <td>0.0</td>\n",
       "      <td>0.0</td>\n",
       "      <td>0.0</td>\n",
       "      <td>0.0</td>\n",
       "      <td>0.0</td>\n",
       "      <td>2.0</td>\n",
       "      <td>77.769997</td>\n",
       "      <td>-13.0</td>\n",
       "      <td>0.0</td>\n",
       "      <td>0.0</td>\n",
       "      <td>0.0</td>\n",
       "      <td>0.0</td>\n",
       "      <td>0.0</td>\n",
       "      <td>2.1</td>\n",
       "      <td>68.199997</td>\n",
       "      <td>-8.0</td>\n",
       "      <td>0.0</td>\n",
       "      <td>0.0</td>\n",
       "      <td>0.0</td>\n",
       "      <td>0.0</td>\n",
       "      <td>0.0</td>\n",
       "      <td>1.6</td>\n",
       "      <td>90.680000</td>\n",
       "      <td>-10.0</td>\n",
       "      <td>0.0</td>\n",
       "      <td>0.0</td>\n",
       "      <td>0.0</td>\n",
       "      <td>0.0</td>\n",
       "      <td>0.0</td>\n",
       "      <td>1.5</td>\n",
       "      <td>69.059998</td>\n",
       "      <td>-12.0</td>\n",
       "      <td>0.0</td>\n",
       "      <td>0.0</td>\n",
       "      <td>0.0</td>\n",
       "      <td>0.0</td>\n",
       "      <td>0.0</td>\n",
       "    </tr>\n",
       "    <tr>\n",
       "      <th>242</th>\n",
       "      <td>1.0</td>\n",
       "      <td>0</td>\n",
       "      <td>0</td>\n",
       "      <td>1.9</td>\n",
       "      <td>76.769997</td>\n",
       "      <td>1</td>\n",
       "      <td>0.0</td>\n",
       "      <td>0.0</td>\n",
       "      <td>0.0</td>\n",
       "      <td>0.0</td>\n",
       "      <td>0.0</td>\n",
       "      <td>2.0</td>\n",
       "      <td>72.139999</td>\n",
       "      <td>-5.0</td>\n",
       "      <td>0.0</td>\n",
       "      <td>0.0</td>\n",
       "      <td>0.0</td>\n",
       "      <td>0.0</td>\n",
       "      <td>0.0</td>\n",
       "      <td>2.2</td>\n",
       "      <td>77.690002</td>\n",
       "      <td>-13.0</td>\n",
       "      <td>0.0</td>\n",
       "      <td>0.0</td>\n",
       "      <td>0.0</td>\n",
       "      <td>0.0</td>\n",
       "      <td>0.0</td>\n",
       "      <td>2.1</td>\n",
       "      <td>69.059998</td>\n",
       "      <td>-8.0</td>\n",
       "      <td>0.0</td>\n",
       "      <td>0.0</td>\n",
       "      <td>0.0</td>\n",
       "      <td>0.0</td>\n",
       "      <td>0.0</td>\n",
       "      <td>1.6</td>\n",
       "      <td>88.110001</td>\n",
       "      <td>-11.0</td>\n",
       "      <td>0.0</td>\n",
       "      <td>0.0</td>\n",
       "      <td>0.0</td>\n",
       "      <td>0.0</td>\n",
       "      <td>0.0</td>\n",
       "      <td>1.6</td>\n",
       "      <td>71.779999</td>\n",
       "      <td>-12.0</td>\n",
       "      <td>0.0</td>\n",
       "      <td>0.0</td>\n",
       "      <td>0.0</td>\n",
       "      <td>0.0</td>\n",
       "      <td>0.0</td>\n",
       "    </tr>\n",
       "    <tr>\n",
       "      <th>243</th>\n",
       "      <td>1.5</td>\n",
       "      <td>0</td>\n",
       "      <td>0</td>\n",
       "      <td>2.0</td>\n",
       "      <td>76.769997</td>\n",
       "      <td>1</td>\n",
       "      <td>0.0</td>\n",
       "      <td>0.0</td>\n",
       "      <td>0.0</td>\n",
       "      <td>0.0</td>\n",
       "      <td>0.0</td>\n",
       "      <td>2.0</td>\n",
       "      <td>72.110001</td>\n",
       "      <td>-5.0</td>\n",
       "      <td>0.0</td>\n",
       "      <td>0.0</td>\n",
       "      <td>0.0</td>\n",
       "      <td>0.0</td>\n",
       "      <td>0.0</td>\n",
       "      <td>2.2</td>\n",
       "      <td>71.570000</td>\n",
       "      <td>-13.0</td>\n",
       "      <td>0.0</td>\n",
       "      <td>0.0</td>\n",
       "      <td>0.0</td>\n",
       "      <td>0.0</td>\n",
       "      <td>0.0</td>\n",
       "      <td>2.1</td>\n",
       "      <td>69.040001</td>\n",
       "      <td>-8.0</td>\n",
       "      <td>0.0</td>\n",
       "      <td>0.0</td>\n",
       "      <td>0.0</td>\n",
       "      <td>0.0</td>\n",
       "      <td>0.0</td>\n",
       "      <td>1.6</td>\n",
       "      <td>88.110001</td>\n",
       "      <td>-11.0</td>\n",
       "      <td>0.0</td>\n",
       "      <td>0.0</td>\n",
       "      <td>0.0</td>\n",
       "      <td>0.0</td>\n",
       "      <td>0.0</td>\n",
       "      <td>1.6</td>\n",
       "      <td>71.750000</td>\n",
       "      <td>-12.0</td>\n",
       "      <td>0.0</td>\n",
       "      <td>0.0</td>\n",
       "      <td>0.0</td>\n",
       "      <td>0.0</td>\n",
       "      <td>0.0</td>\n",
       "    </tr>\n",
       "    <tr>\n",
       "      <th>244</th>\n",
       "      <td>2.0</td>\n",
       "      <td>0</td>\n",
       "      <td>0</td>\n",
       "      <td>2.2</td>\n",
       "      <td>76.389999</td>\n",
       "      <td>1</td>\n",
       "      <td>0.0</td>\n",
       "      <td>0.0</td>\n",
       "      <td>0.0</td>\n",
       "      <td>0.0</td>\n",
       "      <td>0.0</td>\n",
       "      <td>2.0</td>\n",
       "      <td>72.940002</td>\n",
       "      <td>-5.0</td>\n",
       "      <td>0.0</td>\n",
       "      <td>0.0</td>\n",
       "      <td>0.0</td>\n",
       "      <td>0.0</td>\n",
       "      <td>0.0</td>\n",
       "      <td>2.2</td>\n",
       "      <td>72.620003</td>\n",
       "      <td>-13.0</td>\n",
       "      <td>0.0</td>\n",
       "      <td>0.0</td>\n",
       "      <td>0.0</td>\n",
       "      <td>0.0</td>\n",
       "      <td>0.0</td>\n",
       "      <td>2.2</td>\n",
       "      <td>69.379997</td>\n",
       "      <td>-8.0</td>\n",
       "      <td>0.0</td>\n",
       "      <td>0.0</td>\n",
       "      <td>0.0</td>\n",
       "      <td>0.0</td>\n",
       "      <td>0.0</td>\n",
       "      <td>1.6</td>\n",
       "      <td>90.849998</td>\n",
       "      <td>-11.0</td>\n",
       "      <td>0.0</td>\n",
       "      <td>0.0</td>\n",
       "      <td>0.0</td>\n",
       "      <td>0.0</td>\n",
       "      <td>0.0</td>\n",
       "      <td>1.6</td>\n",
       "      <td>75.199997</td>\n",
       "      <td>-12.0</td>\n",
       "      <td>0.0</td>\n",
       "      <td>0.0</td>\n",
       "      <td>0.0</td>\n",
       "      <td>0.0</td>\n",
       "      <td>0.0</td>\n",
       "    </tr>\n",
       "  </tbody>\n",
       "</table>\n",
       "</div>"
      ],
      "text/plain": [
       "     Hour  DHI  DNI   WS         RH  T  TARGET  Angle  GHI  DHI_lag_48  \\\n",
       "240   0.0    0    0  1.5  77.410004  1     0.0    0.0  0.0         0.0   \n",
       "241   0.5    0    0  1.7  77.419998  1     0.0    0.0  0.0         0.0   \n",
       "242   1.0    0    0  1.9  76.769997  1     0.0    0.0  0.0         0.0   \n",
       "243   1.5    0    0  2.0  76.769997  1     0.0    0.0  0.0         0.0   \n",
       "244   2.0    0    0  2.2  76.389999  1     0.0    0.0  0.0         0.0   \n",
       "\n",
       "     DNI_lag_48  WS_lag_48  RH_lag_48  T_lag_48  TARGET_lag_48  Angle_lag_48  \\\n",
       "240         0.0        2.1  72.099998      -5.0            0.0           0.0   \n",
       "241         0.0        2.0  72.099998      -5.0            0.0           0.0   \n",
       "242         0.0        2.0  72.139999      -5.0            0.0           0.0   \n",
       "243         0.0        2.0  72.110001      -5.0            0.0           0.0   \n",
       "244         0.0        2.0  72.940002      -5.0            0.0           0.0   \n",
       "\n",
       "     GHI_lag_48  DHI_lag_96  DNI_lag_96  WS_lag_96  RH_lag_96  T_lag_96  \\\n",
       "240         0.0         0.0         0.0        1.8  77.760002     -14.0   \n",
       "241         0.0         0.0         0.0        2.0  77.769997     -13.0   \n",
       "242         0.0         0.0         0.0        2.2  77.690002     -13.0   \n",
       "243         0.0         0.0         0.0        2.2  71.570000     -13.0   \n",
       "244         0.0         0.0         0.0        2.2  72.620003     -13.0   \n",
       "\n",
       "     TARGET_lag_96  Angle_lag_96  GHI_lag_96  DHI_lag_144  DNI_lag_144  \\\n",
       "240            0.0           0.0         0.0          0.0          0.0   \n",
       "241            0.0           0.0         0.0          0.0          0.0   \n",
       "242            0.0           0.0         0.0          0.0          0.0   \n",
       "243            0.0           0.0         0.0          0.0          0.0   \n",
       "244            0.0           0.0         0.0          0.0          0.0   \n",
       "\n",
       "     WS_lag_144  RH_lag_144  T_lag_144  TARGET_lag_144  Angle_lag_144  \\\n",
       "240         2.2   73.800003       -8.0             0.0            0.0   \n",
       "241         2.1   68.199997       -8.0             0.0            0.0   \n",
       "242         2.1   69.059998       -8.0             0.0            0.0   \n",
       "243         2.1   69.040001       -8.0             0.0            0.0   \n",
       "244         2.2   69.379997       -8.0             0.0            0.0   \n",
       "\n",
       "     GHI_lag_144  DHI_lag_192  DNI_lag_192  WS_lag_192  RH_lag_192  T_lag_192  \\\n",
       "240          0.0          0.0          0.0         1.6   90.660004      -10.0   \n",
       "241          0.0          0.0          0.0         1.6   90.680000      -10.0   \n",
       "242          0.0          0.0          0.0         1.6   88.110001      -11.0   \n",
       "243          0.0          0.0          0.0         1.6   88.110001      -11.0   \n",
       "244          0.0          0.0          0.0         1.6   90.849998      -11.0   \n",
       "\n",
       "     TARGET_lag_192  Angle_lag_192  GHI_lag_192  DHI_lag_240  DNI_lag_240  \\\n",
       "240             0.0            0.0          0.0          0.0          0.0   \n",
       "241             0.0            0.0          0.0          0.0          0.0   \n",
       "242             0.0            0.0          0.0          0.0          0.0   \n",
       "243             0.0            0.0          0.0          0.0          0.0   \n",
       "244             0.0            0.0          0.0          0.0          0.0   \n",
       "\n",
       "     WS_lag_240  RH_lag_240  T_lag_240  TARGET_lag_240  Angle_lag_240  \\\n",
       "240         1.5   69.080002      -12.0             0.0            0.0   \n",
       "241         1.5   69.059998      -12.0             0.0            0.0   \n",
       "242         1.6   71.779999      -12.0             0.0            0.0   \n",
       "243         1.6   71.750000      -12.0             0.0            0.0   \n",
       "244         1.6   75.199997      -12.0             0.0            0.0   \n",
       "\n",
       "     GHI_lag_240  TARGET_1  TARGET_2  \n",
       "240          0.0       0.0       0.0  \n",
       "241          0.0       0.0       0.0  \n",
       "242          0.0       0.0       0.0  \n",
       "243          0.0       0.0       0.0  \n",
       "244          0.0       0.0       0.0  "
      ]
     },
     "execution_count": 52,
     "metadata": {},
     "output_type": "execute_result"
    }
   ],
   "source": [
    "new_train.head()"
   ]
  },
  {
   "cell_type": "markdown",
   "metadata": {},
   "source": [
    "다음으로 test를 불러와줍니다."
   ]
  },
  {
   "cell_type": "code",
   "execution_count": null,
   "metadata": {},
   "outputs": [
    {
     "name": "stderr",
     "output_type": "stream",
     "text": [
      "  1%|█                                                                                  | 1/81 [00:11<15:22, 11.53s/it]"
     ]
    },
    {
     "name": "stdout",
     "output_type": "stream",
     "text": [
      "Minimum Loss:  15.764643626947894\n",
      "Minumum Index:  51744\n"
     ]
    },
    {
     "name": "stderr",
     "output_type": "stream",
     "text": [
      "  2%|██                                                                                 | 2/81 [00:23<15:20, 11.65s/it]"
     ]
    },
    {
     "name": "stdout",
     "output_type": "stream",
     "text": [
      "Minimum Loss:  14.725708943277041\n",
      "Minumum Index:  33408\n"
     ]
    },
    {
     "name": "stderr",
     "output_type": "stream",
     "text": [
      "  4%|███                                                                                | 3/81 [00:35<15:14, 11.73s/it]"
     ]
    },
    {
     "name": "stdout",
     "output_type": "stream",
     "text": [
      "Minimum Loss:  12.942650196880624\n",
      "Minumum Index:  18000\n"
     ]
    },
    {
     "name": "stderr",
     "output_type": "stream",
     "text": [
      "  5%|████                                                                               | 4/81 [00:47<15:01, 11.70s/it]"
     ]
    },
    {
     "name": "stdout",
     "output_type": "stream",
     "text": [
      "Minimum Loss:  13.50050881046214\n",
      "Minumum Index:  37680\n"
     ]
    },
    {
     "name": "stderr",
     "output_type": "stream",
     "text": [
      "  6%|█████                                                                              | 5/81 [00:58<14:50, 11.72s/it]"
     ]
    },
    {
     "name": "stdout",
     "output_type": "stream",
     "text": [
      "Minimum Loss:  16.538341493417544\n",
      "Minumum Index:  38160\n"
     ]
    },
    {
     "name": "stderr",
     "output_type": "stream",
     "text": [
      "  7%|██████▏                                                                            | 6/81 [01:10<14:47, 11.83s/it]"
     ]
    },
    {
     "name": "stdout",
     "output_type": "stream",
     "text": [
      "Minimum Loss:  17.18739231097469\n",
      "Minumum Index:  10176\n"
     ]
    }
   ],
   "source": [
    "# test set load\n",
    "\n",
    "df_test = []\n",
    "\n",
    "for i in tqdm(range(81)):\n",
    "    file_path = TEST_PATH + '/' + str(i) + '.csv'\n",
    "    temp = pd.read_csv(file_path)\n",
    "    # 전처리 코드 아래에 넣기---------------------------------------------------------------\n",
    "    temp = sum_hour_minute(temp) # hour와 min 합치고\n",
    "    temp = find_test_periods(train, temp) # train으로부터 date와 max_angle 받아오고\n",
    "    temp = make_sun_angle(temp) # 일별 sun_angle 계산하고\n",
    "    temp['GHI'] = ghi_formula(temp.DHI, temp.DNI, temp.Angle) # ghi 계산하고\n",
    "    # shift 코드 아래에 넣기 --------------------------------------------------------------\n",
    "    temp = shift_columns(temp, shifted_columns, lags)\n",
    "    \n",
    "    df_test.append(temp[-48:]) # 뒤에서 48개, 즉 마지막 하루만 받아준다.\n",
    "\n",
    "X_test = pd.concat(df_test)\n",
    "print(X_test.shape)"
   ]
  },
  {
   "cell_type": "code",
   "execution_count": null,
   "metadata": {},
   "outputs": [],
   "source": [
    "# test set load\n",
    "\n",
    "df_test = []\n",
    "\n",
    "for i in tqdm(range(81)):\n",
    "    file_path = TEST_PATH + '/' + str(i) + '.csv'\n",
    "    temp = pd.read_csv(file_path)\n",
    "    # 전처리 코드 아래에 넣기---------------------------------------------------------------\n",
    "    temp = sum_hour_minute(temp) # hour와 min 합치고\n",
    "    temp = find_test_periods(train, temp) # train으로부터 date와 max_angle 받아오고\n",
    "    temp = make_sun_angle(temp) # 일별 sun_angle 계산하고\n",
    "    temp['GHI'] = ghi_formula(temp.DHI, temp.DNI, temp.Angle) # ghi 계산하고\n",
    "    # shift 코드 아래에 넣기 --------------------------------------------------------------\n",
    "    #temp = shift_columns(temp, shifted_columns, lags)\n",
    "    \n",
    "    df_test.append(temp[-48:]) # 뒤에서 48개, 즉 마지막 하루만 받아준다.\n",
    "\n",
    "X_test_2 = pd.concat(df_test)\n",
    "print(X_test_2.shape)"
   ]
  },
  {
   "cell_type": "markdown",
   "metadata": {},
   "source": [
    "### train predict"
   ]
  },
  {
   "cell_type": "code",
   "execution_count": 41,
   "metadata": {},
   "outputs": [],
   "source": [
    "X = train[:33600]\n",
    "val = train[33600:]"
   ]
  },
  {
   "cell_type": "code",
   "execution_count": 24,
   "metadata": {},
   "outputs": [],
   "source": [
    "def make_train_test_val(X, val, features):\n",
    "\n",
    "    x_train = X[features]\n",
    "    y_train_1 = X['TARGET_1']\n",
    "    y_train_2 = X['TARGET_2']\n",
    "\n",
    "    x_val = val[features]\n",
    "    y_val_1 = val['TARGET_1']\n",
    "    y_val_2 = val['TARGET_2']\n",
    "    \n",
    "    print(x_train.shape)\n",
    "    \n",
    "    return x_train, y_train_1, y_train_2, x_val, y_val_1, y_val_2"
   ]
  },
  {
   "cell_type": "code",
   "execution_count": 47,
   "metadata": {},
   "outputs": [
    {
     "name": "stdout",
     "output_type": "stream",
     "text": [
      "(33600, 31)\n"
     ]
    }
   ],
   "source": [
    "x_train, y_train_1, y_train_2, x_val, y_val_1, y_val_2 = make_train_test_val(X, val, X.columns[-2:])"
   ]
  },
  {
   "cell_type": "code",
   "execution_count": null,
   "metadata": {},
   "outputs": [],
   "source": []
  },
  {
   "cell_type": "code",
   "execution_count": 53,
   "metadata": {},
   "outputs": [],
   "source": [
    "quantiles = [0.1, 0.2, 0.3, 0.4, 0.5, 0.6, 0.7, 0.8, 0.9]\n",
    "\n",
    "# Get the model and the predictions in (a) - (b)\n",
    "def LGBM(q, X_train, Y_train, X_valid, Y_valid, X_test):\n",
    "    \n",
    "    # (a) Modeling  \n",
    "    model = LGBMRegressor(objective='quantile', # quantile로 받아줘야 quatile regression이 가능합니다.\n",
    "                          alpha=q, # 이건 나중에 quantile 받을 인자입니다.\n",
    "                          n_estimators=10000, # 10000만번을 돌리겠다고? 미쳤어?\n",
    "                          bagging_fraction=0.7,\n",
    "                          learning_rate=0.027,\n",
    "                          subsample=0.7)                   \n",
    "                         \n",
    "                         \n",
    "    model.fit(X_train,\n",
    "              Y_train,\n",
    "              eval_metric = ['quantile'],\n",
    "              eval_set=[(X_valid, Y_valid)],\n",
    "              early_stopping_rounds=300, verbose=500) # 대신 얼리 스토핑을 넣었네요.\n",
    "\n",
    "    # (b) Predictions\n",
    "    pred = pd.Series(model.predict(X_test).round(2))\n",
    "    return pred, model\n",
    "\n",
    "# Target 예측\n",
    "\n",
    "def train_data(X_train, Y_train, X_valid, Y_valid, X_test):\n",
    "\n",
    "    LGBM_models=[]\n",
    "    LGBM_actual_pred = pd.DataFrame()\n",
    "\n",
    "    for q in quantiles: # 9번 반복할 겁니다. quantile 마다.\n",
    "        print(q)\n",
    "        pred , model = LGBM(q, # 퀀틸 박아줍니다.\n",
    "                            X_train, Y_train, X_valid, Y_valid, X_test)\n",
    "        LGBM_models.append(model) # 모델을 어펜드 해줍니다.\n",
    "        LGBM_actual_pred = pd.concat([LGBM_actual_pred,pred],axis=1) #pred를 컨캣해줍니다.\n",
    "\n",
    "    LGBM_actual_pred.columns=quantiles # 컬럼은 퀀틸로 박아줍니다.\n",
    "    \n",
    "    return LGBM_models, LGBM_actual_pred"
   ]
  },
  {
   "cell_type": "code",
   "execution_count": 30,
   "metadata": {
    "collapsed": true,
    "jupyter": {
     "outputs_hidden": true
    }
   },
   "outputs": [
    {
     "name": "stdout",
     "output_type": "stream",
     "text": [
      "0.1\n",
      "[LightGBM] [Warning] bagging_fraction is set=0.7, subsample=0.7 will be ignored. Current value: bagging_fraction=0.7\n",
      "Training until validation scores don't improve for 300 rounds\n",
      "Early stopping, best iteration is:\n",
      "[105]\tvalid_0's quantile: 1.38011\n",
      "0.2\n",
      "[LightGBM] [Warning] bagging_fraction is set=0.7, subsample=0.7 will be ignored. Current value: bagging_fraction=0.7\n",
      "Training until validation scores don't improve for 300 rounds\n",
      "Early stopping, best iteration is:\n",
      "[169]\tvalid_0's quantile: 2.22319\n",
      "0.3\n",
      "[LightGBM] [Warning] bagging_fraction is set=0.7, subsample=0.7 will be ignored. Current value: bagging_fraction=0.7\n",
      "Training until validation scores don't improve for 300 rounds\n",
      "[500]\tvalid_0's quantile: 2.63941\n",
      "Early stopping, best iteration is:\n",
      "[220]\tvalid_0's quantile: 2.62505\n",
      "0.4\n",
      "[LightGBM] [Warning] bagging_fraction is set=0.7, subsample=0.7 will be ignored. Current value: bagging_fraction=0.7\n",
      "Training until validation scores don't improve for 300 rounds\n",
      "[500]\tvalid_0's quantile: 2.72709\n",
      "Early stopping, best iteration is:\n",
      "[449]\tvalid_0's quantile: 2.7247\n",
      "0.5\n",
      "[LightGBM] [Warning] bagging_fraction is set=0.7, subsample=0.7 will be ignored. Current value: bagging_fraction=0.7\n",
      "Training until validation scores don't improve for 300 rounds\n",
      "[500]\tvalid_0's quantile: 2.62957\n",
      "Early stopping, best iteration is:\n",
      "[211]\tvalid_0's quantile: 2.60793\n",
      "0.6\n",
      "[LightGBM] [Warning] bagging_fraction is set=0.7, subsample=0.7 will be ignored. Current value: bagging_fraction=0.7\n",
      "Training until validation scores don't improve for 300 rounds\n",
      "[500]\tvalid_0's quantile: 2.31983\n",
      "Early stopping, best iteration is:\n",
      "[350]\tvalid_0's quantile: 2.31317\n",
      "0.7\n",
      "[LightGBM] [Warning] bagging_fraction is set=0.7, subsample=0.7 will be ignored. Current value: bagging_fraction=0.7\n",
      "Training until validation scores don't improve for 300 rounds\n",
      "[500]\tvalid_0's quantile: 1.9011\n",
      "Early stopping, best iteration is:\n",
      "[530]\tvalid_0's quantile: 1.90035\n",
      "0.8\n",
      "[LightGBM] [Warning] bagging_fraction is set=0.7, subsample=0.7 will be ignored. Current value: bagging_fraction=0.7\n",
      "Training until validation scores don't improve for 300 rounds\n",
      "[500]\tvalid_0's quantile: 1.38183\n",
      "Early stopping, best iteration is:\n",
      "[567]\tvalid_0's quantile: 1.38\n",
      "0.9\n",
      "[LightGBM] [Warning] bagging_fraction is set=0.7, subsample=0.7 will be ignored. Current value: bagging_fraction=0.7\n",
      "Training until validation scores don't improve for 300 rounds\n",
      "[500]\tvalid_0's quantile: 0.769241\n",
      "Early stopping, best iteration is:\n",
      "[598]\tvalid_0's quantile: 0.768995\n",
      "0.1\n",
      "[LightGBM] [Warning] bagging_fraction is set=0.7, subsample=0.7 will be ignored. Current value: bagging_fraction=0.7\n",
      "Training until validation scores don't improve for 300 rounds\n",
      "Early stopping, best iteration is:\n",
      "[131]\tvalid_0's quantile: 1.40152\n",
      "0.2\n",
      "[LightGBM] [Warning] bagging_fraction is set=0.7, subsample=0.7 will be ignored. Current value: bagging_fraction=0.7\n",
      "Training until validation scores don't improve for 300 rounds\n",
      "Early stopping, best iteration is:\n",
      "[142]\tvalid_0's quantile: 2.28675\n",
      "0.3\n",
      "[LightGBM] [Warning] bagging_fraction is set=0.7, subsample=0.7 will be ignored. Current value: bagging_fraction=0.7\n",
      "Training until validation scores don't improve for 300 rounds\n",
      "Early stopping, best iteration is:\n",
      "[165]\tvalid_0's quantile: 2.72808\n",
      "0.4\n",
      "[LightGBM] [Warning] bagging_fraction is set=0.7, subsample=0.7 will be ignored. Current value: bagging_fraction=0.7\n",
      "Training until validation scores don't improve for 300 rounds\n",
      "Early stopping, best iteration is:\n",
      "[198]\tvalid_0's quantile: 2.8518\n",
      "0.5\n",
      "[LightGBM] [Warning] bagging_fraction is set=0.7, subsample=0.7 will be ignored. Current value: bagging_fraction=0.7\n",
      "Training until validation scores don't improve for 300 rounds\n",
      "[500]\tvalid_0's quantile: 2.7569\n",
      "Early stopping, best iteration is:\n",
      "[206]\tvalid_0's quantile: 2.74409\n",
      "0.6\n",
      "[LightGBM] [Warning] bagging_fraction is set=0.7, subsample=0.7 will be ignored. Current value: bagging_fraction=0.7\n",
      "Training until validation scores don't improve for 300 rounds\n",
      "[500]\tvalid_0's quantile: 2.4365\n",
      "Early stopping, best iteration is:\n",
      "[377]\tvalid_0's quantile: 2.43503\n",
      "0.7\n",
      "[LightGBM] [Warning] bagging_fraction is set=0.7, subsample=0.7 will be ignored. Current value: bagging_fraction=0.7\n",
      "Training until validation scores don't improve for 300 rounds\n",
      "[500]\tvalid_0's quantile: 1.99216\n",
      "Early stopping, best iteration is:\n",
      "[425]\tvalid_0's quantile: 1.99003\n",
      "0.8\n",
      "[LightGBM] [Warning] bagging_fraction is set=0.7, subsample=0.7 will be ignored. Current value: bagging_fraction=0.7\n",
      "Training until validation scores don't improve for 300 rounds\n",
      "[500]\tvalid_0's quantile: 1.43523\n",
      "Early stopping, best iteration is:\n",
      "[542]\tvalid_0's quantile: 1.43475\n",
      "0.9\n",
      "[LightGBM] [Warning] bagging_fraction is set=0.7, subsample=0.7 will be ignored. Current value: bagging_fraction=0.7\n",
      "Training until validation scores don't improve for 300 rounds\n",
      "[500]\tvalid_0's quantile: 0.794999\n",
      "Early stopping, best iteration is:\n",
      "[519]\tvalid_0's quantile: 0.794801\n"
     ]
    }
   ],
   "source": [
    "# Target1\n",
    "models_1, results_1 = train_data(x_train, y_train_1, x_val, y_val_1, X_test)\n",
    "\n",
    "# Target2\n",
    "models_2, results_2 = train_data(x_train, y_train_2, x_val, y_val_2, X_test)"
   ]
  },
  {
   "cell_type": "code",
   "execution_count": 31,
   "metadata": {
    "collapsed": true,
    "jupyter": {
     "outputs_hidden": true
    }
   },
   "outputs": [
    {
     "data": {
      "image/png": "[encoded data removed]",
      "text/plain": [
       "<Figure size 1440x1440 with 1 Axes>"
      ]
     },
     "metadata": {
      "needs_background": "light"
     },
     "output_type": "display_data"
    },
    {
     "data": {
      "text/plain": [
       "<Figure size 432x288 with 0 Axes>"
      ]
     },
     "metadata": {},
     "output_type": "display_data"
    },
    {
     "data": {
      "image/png": "[encoded data removed]",
      "text/plain": [
       "<Figure size 1440x1440 with 1 Axes>"
      ]
     },
     "metadata": {
      "needs_background": "light"
     },
     "output_type": "display_data"
    },
    {
     "data": {
      "text/plain": [
       "<Figure size 432x288 with 0 Axes>"
      ]
     },
     "metadata": {},
     "output_type": "display_data"
    },
    {
     "data": {
      "image/png": "[encoded data removed]",
      "text/plain": [
       "<Figure size 1440x1440 with 1 Axes>"
      ]
     },
     "metadata": {
      "needs_background": "light"
     },
     "output_type": "display_data"
    },
    {
     "data": {
      "text/plain": [
       "<Figure size 432x288 with 0 Axes>"
      ]
     },
     "metadata": {},
     "output_type": "display_data"
    },
    {
     "data": {
      "image/png": "[encoded data removed]",
      "text/plain": [
       "<Figure size 1440x1440 with 1 Axes>"
      ]
     },
     "metadata": {
      "needs_background": "light"
     },
     "output_type": "display_data"
    },
    {
     "data": {
      "text/plain": [
       "<Figure size 432x288 with 0 Axes>"
      ]
     },
     "metadata": {},
     "output_type": "display_data"
    },
    {
     "data": {
      "image/png": "[encoded data removed]",
      "text/plain": [
       "<Figure size 1440x1440 with 1 Axes>"
      ]
     },
     "metadata": {
      "needs_background": "light"
     },
     "output_type": "display_data"
    },
    {
     "data": {
      "text/plain": [
       "<Figure size 432x288 with 0 Axes>"
      ]
     },
     "metadata": {},
     "output_type": "display_data"
    },
    {
     "data": {
      "image/png": "[encoded data removed]",
      "text/plain": [
       "<Figure size 1440x1440 with 1 Axes>"
      ]
     },
     "metadata": {
      "needs_background": "light"
     },
     "output_type": "display_data"
    },
    {
     "data": {
      "text/plain": [
       "<Figure size 432x288 with 0 Axes>"
      ]
     },
     "metadata": {},
     "output_type": "display_data"
    },
    {
     "data": {
      "image/png": "[encoded data removed]",
      "text/plain": [
       "<Figure size 1440x1440 with 1 Axes>"
      ]
     },
     "metadata": {
      "needs_background": "light"
     },
     "output_type": "display_data"
    },
    {
     "data": {
      "text/plain": [
       "<Figure size 432x288 with 0 Axes>"
      ]
     },
     "metadata": {},
     "output_type": "display_data"
    },
    {
     "data": {
      "image/png": "[encoded data removed]",
      "text/plain": [
       "<Figure size 1440x1440 with 1 Axes>"
      ]
     },
     "metadata": {
      "needs_background": "light"
     },
     "output_type": "display_data"
    },
    {
     "data": {
      "text/plain": [
       "<Figure size 432x288 with 0 Axes>"
      ]
     },
     "metadata": {},
     "output_type": "display_data"
    },
    {
     "data": {
      "image/png": "[encoded data removed]",
      "text/plain": [
       "<Figure size 1440x1440 with 1 Axes>"
      ]
     },
     "metadata": {
      "needs_background": "light"
     },
     "output_type": "display_data"
    },
    {
     "data": {
      "text/plain": [
       "<Figure size 432x288 with 0 Axes>"
      ]
     },
     "metadata": {},
     "output_type": "display_data"
    }
   ],
   "source": [
    "for i in range(len(models_1)):\n",
    "    # sorted(zip(clf.feature_importances_, X.columns), reverse=True)\n",
    "    feature_imp = pd.DataFrame(sorted(zip(models_1[i].feature_importances_,x_train.columns)),\n",
    "                               columns=['Value','Feature'])\n",
    "\n",
    "    plt.figure(figsize=(20, 20))\n",
    "    sns.barplot(x=\"Value\", y=\"Feature\", data=feature_imp.sort_values(by=\"Value\", ascending=False))\n",
    "    plt.title('LightGBM Features (avg over folds)')\n",
    "    plt.tight_layout()\n",
    "    plt.show()"
   ]
  },
  {
   "cell_type": "code",
   "execution_count": 48,
   "metadata": {
    "collapsed": true,
    "jupyter": {
     "outputs_hidden": true
    }
   },
   "outputs": [
    {
     "data": {
      "text/html": [
       "<div>\n",
       "<style scoped>\n",
       "    .dataframe tbody tr th:only-of-type {\n",
       "        vertical-align: middle;\n",
       "    }\n",
       "\n",
       "    .dataframe tbody tr th {\n",
       "        vertical-align: top;\n",
       "    }\n",
       "\n",
       "    .dataframe thead th {\n",
       "        text-align: right;\n",
       "    }\n",
       "</style>\n",
       "<table border=\"1\" class=\"dataframe\">\n",
       "  <thead>\n",
       "    <tr style=\"text-align: right;\">\n",
       "      <th></th>\n",
       "      <th>id</th>\n",
       "      <th>q_0.1</th>\n",
       "      <th>q_0.2</th>\n",
       "      <th>q_0.3</th>\n",
       "      <th>q_0.4</th>\n",
       "      <th>q_0.5</th>\n",
       "      <th>q_0.6</th>\n",
       "      <th>q_0.7</th>\n",
       "      <th>q_0.8</th>\n",
       "      <th>q_0.9</th>\n",
       "    </tr>\n",
       "  </thead>\n",
       "  <tbody>\n",
       "    <tr>\n",
       "      <th>16</th>\n",
       "      <td>0.csv_Day7_8h00m</td>\n",
       "      <td>1.29</td>\n",
       "      <td>2.04</td>\n",
       "      <td>1.58</td>\n",
       "      <td>10.83</td>\n",
       "      <td>13.44</td>\n",
       "      <td>6.70</td>\n",
       "      <td>4.38</td>\n",
       "      <td>22.11</td>\n",
       "      <td>18.49</td>\n",
       "    </tr>\n",
       "    <tr>\n",
       "      <th>17</th>\n",
       "      <td>0.csv_Day7_8h30m</td>\n",
       "      <td>1.26</td>\n",
       "      <td>0.96</td>\n",
       "      <td>0.42</td>\n",
       "      <td>9.87</td>\n",
       "      <td>13.59</td>\n",
       "      <td>5.72</td>\n",
       "      <td>1.73</td>\n",
       "      <td>18.63</td>\n",
       "      <td>16.65</td>\n",
       "    </tr>\n",
       "    <tr>\n",
       "      <th>18</th>\n",
       "      <td>0.csv_Day7_9h00m</td>\n",
       "      <td>1.27</td>\n",
       "      <td>2.14</td>\n",
       "      <td>1.13</td>\n",
       "      <td>13.67</td>\n",
       "      <td>13.82</td>\n",
       "      <td>4.81</td>\n",
       "      <td>2.22</td>\n",
       "      <td>18.65</td>\n",
       "      <td>15.16</td>\n",
       "    </tr>\n",
       "    <tr>\n",
       "      <th>19</th>\n",
       "      <td>0.csv_Day7_9h30m</td>\n",
       "      <td>0.82</td>\n",
       "      <td>4.03</td>\n",
       "      <td>1.26</td>\n",
       "      <td>13.60</td>\n",
       "      <td>13.20</td>\n",
       "      <td>4.27</td>\n",
       "      <td>1.02</td>\n",
       "      <td>18.98</td>\n",
       "      <td>14.88</td>\n",
       "    </tr>\n",
       "    <tr>\n",
       "      <th>20</th>\n",
       "      <td>0.csv_Day7_10h00m</td>\n",
       "      <td>0.82</td>\n",
       "      <td>4.82</td>\n",
       "      <td>2.12</td>\n",
       "      <td>14.10</td>\n",
       "      <td>13.20</td>\n",
       "      <td>7.20</td>\n",
       "      <td>2.62</td>\n",
       "      <td>18.94</td>\n",
       "      <td>13.98</td>\n",
       "    </tr>\n",
       "    <tr>\n",
       "      <th>21</th>\n",
       "      <td>0.csv_Day7_10h30m</td>\n",
       "      <td>0.82</td>\n",
       "      <td>4.49</td>\n",
       "      <td>2.30</td>\n",
       "      <td>14.15</td>\n",
       "      <td>13.21</td>\n",
       "      <td>7.20</td>\n",
       "      <td>2.62</td>\n",
       "      <td>18.94</td>\n",
       "      <td>13.98</td>\n",
       "    </tr>\n",
       "    <tr>\n",
       "      <th>22</th>\n",
       "      <td>0.csv_Day7_11h00m</td>\n",
       "      <td>1.14</td>\n",
       "      <td>4.83</td>\n",
       "      <td>2.38</td>\n",
       "      <td>14.12</td>\n",
       "      <td>13.21</td>\n",
       "      <td>7.20</td>\n",
       "      <td>2.62</td>\n",
       "      <td>18.94</td>\n",
       "      <td>13.98</td>\n",
       "    </tr>\n",
       "    <tr>\n",
       "      <th>23</th>\n",
       "      <td>0.csv_Day7_11h30m</td>\n",
       "      <td>1.14</td>\n",
       "      <td>4.85</td>\n",
       "      <td>2.39</td>\n",
       "      <td>14.09</td>\n",
       "      <td>13.20</td>\n",
       "      <td>7.17</td>\n",
       "      <td>2.62</td>\n",
       "      <td>18.90</td>\n",
       "      <td>13.98</td>\n",
       "    </tr>\n",
       "    <tr>\n",
       "      <th>24</th>\n",
       "      <td>0.csv_Day7_12h00m</td>\n",
       "      <td>1.51</td>\n",
       "      <td>5.03</td>\n",
       "      <td>3.12</td>\n",
       "      <td>14.20</td>\n",
       "      <td>13.20</td>\n",
       "      <td>7.17</td>\n",
       "      <td>2.62</td>\n",
       "      <td>18.93</td>\n",
       "      <td>13.98</td>\n",
       "    </tr>\n",
       "    <tr>\n",
       "      <th>25</th>\n",
       "      <td>0.csv_Day7_12h30m</td>\n",
       "      <td>1.51</td>\n",
       "      <td>5.03</td>\n",
       "      <td>3.31</td>\n",
       "      <td>14.23</td>\n",
       "      <td>13.21</td>\n",
       "      <td>7.20</td>\n",
       "      <td>2.62</td>\n",
       "      <td>18.93</td>\n",
       "      <td>13.98</td>\n",
       "    </tr>\n",
       "    <tr>\n",
       "      <th>26</th>\n",
       "      <td>0.csv_Day7_13h00m</td>\n",
       "      <td>1.76</td>\n",
       "      <td>5.36</td>\n",
       "      <td>3.28</td>\n",
       "      <td>14.33</td>\n",
       "      <td>13.21</td>\n",
       "      <td>7.27</td>\n",
       "      <td>2.62</td>\n",
       "      <td>18.94</td>\n",
       "      <td>13.98</td>\n",
       "    </tr>\n",
       "    <tr>\n",
       "      <th>27</th>\n",
       "      <td>0.csv_Day7_13h30m</td>\n",
       "      <td>1.99</td>\n",
       "      <td>5.03</td>\n",
       "      <td>3.44</td>\n",
       "      <td>14.31</td>\n",
       "      <td>13.21</td>\n",
       "      <td>6.40</td>\n",
       "      <td>2.57</td>\n",
       "      <td>18.69</td>\n",
       "      <td>14.90</td>\n",
       "    </tr>\n",
       "    <tr>\n",
       "      <th>28</th>\n",
       "      <td>0.csv_Day7_14h00m</td>\n",
       "      <td>2.07</td>\n",
       "      <td>6.20</td>\n",
       "      <td>3.58</td>\n",
       "      <td>14.58</td>\n",
       "      <td>13.21</td>\n",
       "      <td>7.31</td>\n",
       "      <td>2.64</td>\n",
       "      <td>18.91</td>\n",
       "      <td>14.87</td>\n",
       "    </tr>\n",
       "    <tr>\n",
       "      <th>29</th>\n",
       "      <td>0.csv_Day7_14h30m</td>\n",
       "      <td>2.07</td>\n",
       "      <td>6.20</td>\n",
       "      <td>3.61</td>\n",
       "      <td>14.61</td>\n",
       "      <td>13.21</td>\n",
       "      <td>7.31</td>\n",
       "      <td>2.64</td>\n",
       "      <td>18.90</td>\n",
       "      <td>14.87</td>\n",
       "    </tr>\n",
       "    <tr>\n",
       "      <th>30</th>\n",
       "      <td>0.csv_Day7_15h00m</td>\n",
       "      <td>2.07</td>\n",
       "      <td>6.20</td>\n",
       "      <td>3.58</td>\n",
       "      <td>14.56</td>\n",
       "      <td>13.21</td>\n",
       "      <td>7.54</td>\n",
       "      <td>3.00</td>\n",
       "      <td>18.93</td>\n",
       "      <td>14.87</td>\n",
       "    </tr>\n",
       "    <tr>\n",
       "      <th>31</th>\n",
       "      <td>0.csv_Day7_15h30m</td>\n",
       "      <td>2.42</td>\n",
       "      <td>5.81</td>\n",
       "      <td>3.65</td>\n",
       "      <td>14.56</td>\n",
       "      <td>13.21</td>\n",
       "      <td>7.54</td>\n",
       "      <td>2.95</td>\n",
       "      <td>18.94</td>\n",
       "      <td>14.90</td>\n",
       "    </tr>\n",
       "    <tr>\n",
       "      <th>32</th>\n",
       "      <td>0.csv_Day7_16h00m</td>\n",
       "      <td>2.26</td>\n",
       "      <td>6.74</td>\n",
       "      <td>2.21</td>\n",
       "      <td>15.01</td>\n",
       "      <td>13.64</td>\n",
       "      <td>6.80</td>\n",
       "      <td>2.62</td>\n",
       "      <td>19.33</td>\n",
       "      <td>16.73</td>\n",
       "    </tr>\n",
       "  </tbody>\n",
       "</table>\n",
       "</div>"
      ],
      "text/plain": [
       "                   id  q_0.1  q_0.2  q_0.3  q_0.4  q_0.5  q_0.6  q_0.7  q_0.8  \\\n",
       "16   0.csv_Day7_8h00m   1.29   2.04   1.58  10.83  13.44   6.70   4.38  22.11   \n",
       "17   0.csv_Day7_8h30m   1.26   0.96   0.42   9.87  13.59   5.72   1.73  18.63   \n",
       "18   0.csv_Day7_9h00m   1.27   2.14   1.13  13.67  13.82   4.81   2.22  18.65   \n",
       "19   0.csv_Day7_9h30m   0.82   4.03   1.26  13.60  13.20   4.27   1.02  18.98   \n",
       "20  0.csv_Day7_10h00m   0.82   4.82   2.12  14.10  13.20   7.20   2.62  18.94   \n",
       "21  0.csv_Day7_10h30m   0.82   4.49   2.30  14.15  13.21   7.20   2.62  18.94   \n",
       "22  0.csv_Day7_11h00m   1.14   4.83   2.38  14.12  13.21   7.20   2.62  18.94   \n",
       "23  0.csv_Day7_11h30m   1.14   4.85   2.39  14.09  13.20   7.17   2.62  18.90   \n",
       "24  0.csv_Day7_12h00m   1.51   5.03   3.12  14.20  13.20   7.17   2.62  18.93   \n",
       "25  0.csv_Day7_12h30m   1.51   5.03   3.31  14.23  13.21   7.20   2.62  18.93   \n",
       "26  0.csv_Day7_13h00m   1.76   5.36   3.28  14.33  13.21   7.27   2.62  18.94   \n",
       "27  0.csv_Day7_13h30m   1.99   5.03   3.44  14.31  13.21   6.40   2.57  18.69   \n",
       "28  0.csv_Day7_14h00m   2.07   6.20   3.58  14.58  13.21   7.31   2.64  18.91   \n",
       "29  0.csv_Day7_14h30m   2.07   6.20   3.61  14.61  13.21   7.31   2.64  18.90   \n",
       "30  0.csv_Day7_15h00m   2.07   6.20   3.58  14.56  13.21   7.54   3.00  18.93   \n",
       "31  0.csv_Day7_15h30m   2.42   5.81   3.65  14.56  13.21   7.54   2.95  18.94   \n",
       "32  0.csv_Day7_16h00m   2.26   6.74   2.21  15.01  13.64   6.80   2.62  19.33   \n",
       "\n",
       "    q_0.9  \n",
       "16  18.49  \n",
       "17  16.65  \n",
       "18  15.16  \n",
       "19  14.88  \n",
       "20  13.98  \n",
       "21  13.98  \n",
       "22  13.98  \n",
       "23  13.98  \n",
       "24  13.98  \n",
       "25  13.98  \n",
       "26  13.98  \n",
       "27  14.90  \n",
       "28  14.87  \n",
       "29  14.87  \n",
       "30  14.87  \n",
       "31  14.90  \n",
       "32  16.73  "
      ]
     },
     "execution_count": 48,
     "metadata": {},
     "output_type": "execute_result"
    }
   ],
   "source": [
    "# lag model 3 window decross model\n",
    "\n",
    "submission.loc[submission.id.str.contains(\"Day7\"), \"q_0.1\":] = final_result_1.sort_index().values\n",
    "submission.loc[submission.id.str.contains(\"Day8\"), \"q_0.1\":] = final_result_2.sort_index().values\n",
    "submission[16:33]\n",
    "\n",
    "#submission.to_csv('./submission/submission_210106-1_6days_notminute.csv', index=False)"
   ]
  },
  {
   "cell_type": "code",
   "execution_count": null,
   "metadata": {},
   "outputs": [],
   "source": []
  },
  {
   "cell_type": "code",
   "execution_count": null,
   "metadata": {},
   "outputs": [],
   "source": []
  },
  {
   "cell_type": "code",
   "execution_count": null,
   "metadata": {},
   "outputs": [],
   "source": []
  }
 ],
 "metadata": {
  "kernelspec": {
   "display_name": "Python 3",
   "language": "python",
   "name": "python3"
  },
  "language_info": {
   "codemirror_mode": {
    "name": "ipython",
    "version": 3
   },
   "file_extension": ".py",
   "mimetype": "text/x-python",
   "name": "python",
   "nbconvert_exporter": "python",
   "pygments_lexer": "ipython3",
   "version": "3.7.7"
  }
 },
 "nbformat": 4,
 "nbformat_minor": 4
}
